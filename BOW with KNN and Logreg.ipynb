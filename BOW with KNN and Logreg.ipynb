{
  "cells": [
    {
      "metadata": {
        "_uuid": "8f2839f25d086af736a60e9eeb907d3b93b6e0e5",
        "_cell_guid": "b1076dfc-b9ad-4769-8c92-a6c4dae69d19",
        "trusted": true
      },
      "cell_type": "code",
      "source": "# This Python 3 environment comes with many helpful analytics libraries installed\n# It is defined by the kaggle/python docker image: https://github.com/kaggle/docker-python\n# For example, here's several helpful packages to load in \n\nimport numpy as np # linear algebra\nimport pandas as pd # data processing, CSV file I/O (e.g. pd.read_csv)\n\n# Input data files are available in the \"../input/\" directory.\n# For example, running this (by clicking run or pressing Shift+Enter) will list the files in the input directory\n\nimport os\nprint(os.listdir(\"../input\"))\n\n# Any results you write to the current directory are saved as output.",
      "execution_count": 29,
      "outputs": [
        {
          "output_type": "stream",
          "text": "['database.sqlite', 'hashes.txt', 'Reviews.csv']\n",
          "name": "stdout"
        }
      ]
    },
    {
      "metadata": {
        "_cell_guid": "79c7e3d0-c299-4dcb-8224-4455121ee9b0",
        "_uuid": "d629ff2d2480ee46fbb7e2d37f6b5fab8052498a",
        "trusted": true
      },
      "cell_type": "code",
      "source": "data = pd.read_csv('../input/Reviews.csv')",
      "execution_count": 30,
      "outputs": []
    },
    {
      "metadata": {
        "trusted": true,
        "_uuid": "06a5ef92fbccf30ec57bf6259f4207e96894032d"
      },
      "cell_type": "code",
      "source": "data.head(5)",
      "execution_count": 31,
      "outputs": [
        {
          "output_type": "execute_result",
          "execution_count": 31,
          "data": {
            "text/plain": "   Id                        ...                                                                       Text\n0   1                        ...                          I have bought several of the Vitality canned d...\n1   2                        ...                          Product arrived labeled as Jumbo Salted Peanut...\n2   3                        ...                          This is a confection that has been around a fe...\n3   4                        ...                          If you are looking for the secret ingredient i...\n4   5                        ...                          Great taffy at a great price.  There was a wid...\n\n[5 rows x 10 columns]",
            "text/html": "<div>\n<style scoped>\n    .dataframe tbody tr th:only-of-type {\n        vertical-align: middle;\n    }\n\n    .dataframe tbody tr th {\n        vertical-align: top;\n    }\n\n    .dataframe thead th {\n        text-align: right;\n    }\n</style>\n<table border=\"1\" class=\"dataframe\">\n  <thead>\n    <tr style=\"text-align: right;\">\n      <th></th>\n      <th>Id</th>\n      <th>ProductId</th>\n      <th>UserId</th>\n      <th>ProfileName</th>\n      <th>HelpfulnessNumerator</th>\n      <th>HelpfulnessDenominator</th>\n      <th>Score</th>\n      <th>Time</th>\n      <th>Summary</th>\n      <th>Text</th>\n    </tr>\n  </thead>\n  <tbody>\n    <tr>\n      <th>0</th>\n      <td>1</td>\n      <td>B001E4KFG0</td>\n      <td>A3SGXH7AUHU8GW</td>\n      <td>delmartian</td>\n      <td>1</td>\n      <td>1</td>\n      <td>5</td>\n      <td>1303862400</td>\n      <td>Good Quality Dog Food</td>\n      <td>I have bought several of the Vitality canned d...</td>\n    </tr>\n    <tr>\n      <th>1</th>\n      <td>2</td>\n      <td>B00813GRG4</td>\n      <td>A1D87F6ZCVE5NK</td>\n      <td>dll pa</td>\n      <td>0</td>\n      <td>0</td>\n      <td>1</td>\n      <td>1346976000</td>\n      <td>Not as Advertised</td>\n      <td>Product arrived labeled as Jumbo Salted Peanut...</td>\n    </tr>\n    <tr>\n      <th>2</th>\n      <td>3</td>\n      <td>B000LQOCH0</td>\n      <td>ABXLMWJIXXAIN</td>\n      <td>Natalia Corres \"Natalia Corres\"</td>\n      <td>1</td>\n      <td>1</td>\n      <td>4</td>\n      <td>1219017600</td>\n      <td>\"Delight\" says it all</td>\n      <td>This is a confection that has been around a fe...</td>\n    </tr>\n    <tr>\n      <th>3</th>\n      <td>4</td>\n      <td>B000UA0QIQ</td>\n      <td>A395BORC6FGVXV</td>\n      <td>Karl</td>\n      <td>3</td>\n      <td>3</td>\n      <td>2</td>\n      <td>1307923200</td>\n      <td>Cough Medicine</td>\n      <td>If you are looking for the secret ingredient i...</td>\n    </tr>\n    <tr>\n      <th>4</th>\n      <td>5</td>\n      <td>B006K2ZZ7K</td>\n      <td>A1UQRSCLF8GW1T</td>\n      <td>Michael D. Bigham \"M. Wassir\"</td>\n      <td>0</td>\n      <td>0</td>\n      <td>5</td>\n      <td>1350777600</td>\n      <td>Great taffy</td>\n      <td>Great taffy at a great price.  There was a wid...</td>\n    </tr>\n  </tbody>\n</table>\n</div>"
          },
          "metadata": {}
        }
      ]
    },
    {
      "metadata": {
        "trusted": true,
        "_uuid": "09cdb4dbb1b1bc8ead2741892cfd9e32d8f45ced"
      },
      "cell_type": "code",
      "source": "data.shape\n",
      "execution_count": 32,
      "outputs": [
        {
          "output_type": "execute_result",
          "execution_count": 32,
          "data": {
            "text/plain": "(568454, 10)"
          },
          "metadata": {}
        }
      ]
    },
    {
      "metadata": {
        "trusted": true,
        "_uuid": "1e449365f01f9236715ea3a8dd920403f70465c3"
      },
      "cell_type": "code",
      "source": "#to remove the datapoints which are neither positive nor negative\ndata = data[data['Score']!=3]",
      "execution_count": 33,
      "outputs": []
    },
    {
      "metadata": {
        "trusted": true,
        "_uuid": "689ab3e466056f3d6b3707ee302245e70ae51186"
      },
      "cell_type": "code",
      "source": "data.shape",
      "execution_count": 34,
      "outputs": [
        {
          "output_type": "execute_result",
          "execution_count": 34,
          "data": {
            "text/plain": "(525814, 10)"
          },
          "metadata": {}
        }
      ]
    },
    {
      "metadata": {
        "trusted": true,
        "_uuid": "152dcbef5af81c446ba183aa99b5e02650406619"
      },
      "cell_type": "code",
      "source": "#for score>3, it is 'positive' review and score<3 is 'negative' review\ndef partition(x):\n    if x>3:\n        return 'positive'\n    else:\n        return 'negative'",
      "execution_count": 35,
      "outputs": []
    },
    {
      "metadata": {
        "trusted": true,
        "_uuid": "75a324381a142aeeedf89ceb4ca7a9b4fd70126e"
      },
      "cell_type": "code",
      "source": "data['Score'] = data['Score'].apply(partition)",
      "execution_count": 36,
      "outputs": []
    },
    {
      "metadata": {
        "trusted": true,
        "_uuid": "baa14822b04b7f2b49ade5fe2c5fbdb9d1633922"
      },
      "cell_type": "code",
      "source": "sorted_data = data.sort_values(by='ProductId', axis=0)",
      "execution_count": 37,
      "outputs": []
    },
    {
      "metadata": {
        "trusted": true,
        "_uuid": "0d42d0532888a26fa20d1579cf3e7a71a5e686e3"
      },
      "cell_type": "code",
      "source": "final = sorted_data.drop_duplicates(subset={\"UserId\",\"Time\",\"Text\",\"ProfileName\"})\nfinal['Id'].size/sorted_data['Id'].size",
      "execution_count": 38,
      "outputs": [
        {
          "output_type": "execute_result",
          "execution_count": 38,
          "data": {
            "text/plain": "0.6925890143662968"
          },
          "metadata": {}
        }
      ]
    },
    {
      "metadata": {
        "trusted": true,
        "_uuid": "00e74b3ff7c645c45d327a410f73c09d96b1f5ca"
      },
      "cell_type": "code",
      "source": "final = final[final.HelpfulnessNumerator<=final.HelpfulnessDenominator]",
      "execution_count": 39,
      "outputs": []
    },
    {
      "metadata": {
        "trusted": true,
        "_uuid": "5e1efb92ae99b1497542e0972cd92bc981267538"
      },
      "cell_type": "code",
      "source": "final['Score_n'] = final['Score'].apply(lambda x:1 if x == 'positive' else 0)",
      "execution_count": 112,
      "outputs": []
    },
    {
      "metadata": {
        "trusted": true,
        "_uuid": "b3bfb56e516aaea17e61ae20534b42b332acc423"
      },
      "cell_type": "code",
      "source": "",
      "execution_count": null,
      "outputs": []
    },
    {
      "metadata": {
        "trusted": true,
        "_uuid": "957dfd4a812e9d7f04cbc25ea231d15a2b798987"
      },
      "cell_type": "code",
      "source": "final_1 = final[:10000]",
      "execution_count": 78,
      "outputs": []
    },
    {
      "metadata": {
        "trusted": true,
        "_uuid": "abf3e89ce592a81c08ec84b704f32041b7b30b91"
      },
      "cell_type": "code",
      "source": "import re\n\ndef cleanhtml(raw_html):\n    cleanr = re.compile('<.*?>')\n    cleantext = re.sub(cleanr, '', raw_html)\n    return cleantext",
      "execution_count": 79,
      "outputs": []
    },
    {
      "metadata": {
        "trusted": true,
        "_uuid": "c6ef8005b2d5e11d29fb35d36e9d732ff476ff5c"
      },
      "cell_type": "code",
      "source": "final_1['Text'] = final_1['Text'].apply(cleanhtml)",
      "execution_count": 80,
      "outputs": [
        {
          "output_type": "stream",
          "text": "/opt/conda/lib/python3.6/site-packages/ipykernel_launcher.py:1: SettingWithCopyWarning: \nA value is trying to be set on a copy of a slice from a DataFrame.\nTry using .loc[row_indexer,col_indexer] = value instead\n\nSee the caveats in the documentation: http://pandas.pydata.org/pandas-docs/stable/indexing.html#indexing-view-versus-copy\n  \"\"\"Entry point for launching an IPython kernel.\n",
          "name": "stderr"
        }
      ]
    },
    {
      "metadata": {
        "trusted": true,
        "_uuid": "a0eb568b217e427184965f76ec4f502c2ed65092"
      },
      "cell_type": "code",
      "source": "import string\n\ndef cleanpunc(raw_string):\n    #print(raw_string)\n    newstr = [char for char in raw_string.split() if char not in string.punctuation]\n    #print(newstr)\n    newstr = ' '.join(newstr)\n    return newstr",
      "execution_count": 77,
      "outputs": []
    },
    {
      "metadata": {
        "trusted": true,
        "_uuid": "b2abee7830f9597618aff26305b762c9dd5fe184"
      },
      "cell_type": "code",
      "source": "final_1['Text'] = final_1['Text'].apply(cleanpunc)",
      "execution_count": 44,
      "outputs": [
        {
          "output_type": "stream",
          "text": "/opt/conda/lib/python3.6/site-packages/ipykernel_launcher.py:1: SettingWithCopyWarning: \nA value is trying to be set on a copy of a slice from a DataFrame.\nTry using .loc[row_indexer,col_indexer] = value instead\n\nSee the caveats in the documentation: http://pandas.pydata.org/pandas-docs/stable/indexing.html#indexing-view-versus-copy\n  \"\"\"Entry point for launching an IPython kernel.\n",
          "name": "stderr"
        }
      ]
    },
    {
      "metadata": {
        "trusted": true,
        "_uuid": "8a63ec6b28dc44e9ffddb19e002efd50d68226b7"
      },
      "cell_type": "code",
      "source": "final_1.head(5)",
      "execution_count": 45,
      "outputs": [
        {
          "output_type": "execute_result",
          "execution_count": 45,
          "data": {
            "text/plain": "            Id                        ...                                                                       Text\n150523  150524                        ...                          this witty little book makes my son laugh at l...\n150505  150506                        ...                          I grew up reading these Sendak books, and watc...\n150506  150507                        ...                          This is a fun way for children to learn their ...\n150507  150508                        ...                          This is a great little book to read aloud- it ...\n150508  150509                        ...                          This is a book of poetry about the months of t...\n\n[5 rows x 10 columns]",
            "text/html": "<div>\n<style scoped>\n    .dataframe tbody tr th:only-of-type {\n        vertical-align: middle;\n    }\n\n    .dataframe tbody tr th {\n        vertical-align: top;\n    }\n\n    .dataframe thead th {\n        text-align: right;\n    }\n</style>\n<table border=\"1\" class=\"dataframe\">\n  <thead>\n    <tr style=\"text-align: right;\">\n      <th></th>\n      <th>Id</th>\n      <th>ProductId</th>\n      <th>UserId</th>\n      <th>ProfileName</th>\n      <th>HelpfulnessNumerator</th>\n      <th>HelpfulnessDenominator</th>\n      <th>Score</th>\n      <th>Time</th>\n      <th>Summary</th>\n      <th>Text</th>\n    </tr>\n  </thead>\n  <tbody>\n    <tr>\n      <th>150523</th>\n      <td>150524</td>\n      <td>0006641040</td>\n      <td>ACITT7DI6IDDL</td>\n      <td>shari zychinski</td>\n      <td>0</td>\n      <td>0</td>\n      <td>positive</td>\n      <td>939340800</td>\n      <td>EVERY book is educational</td>\n      <td>this witty little book makes my son laugh at l...</td>\n    </tr>\n    <tr>\n      <th>150505</th>\n      <td>150506</td>\n      <td>0006641040</td>\n      <td>A2IW4PEEKO2R0U</td>\n      <td>Tracy</td>\n      <td>1</td>\n      <td>1</td>\n      <td>positive</td>\n      <td>1194739200</td>\n      <td>Love the book, miss the hard cover version</td>\n      <td>I grew up reading these Sendak books, and watc...</td>\n    </tr>\n    <tr>\n      <th>150506</th>\n      <td>150507</td>\n      <td>0006641040</td>\n      <td>A1S4A3IQ2MU7V4</td>\n      <td>sally sue \"sally sue\"</td>\n      <td>1</td>\n      <td>1</td>\n      <td>positive</td>\n      <td>1191456000</td>\n      <td>chicken soup with rice months</td>\n      <td>This is a fun way for children to learn their ...</td>\n    </tr>\n    <tr>\n      <th>150507</th>\n      <td>150508</td>\n      <td>0006641040</td>\n      <td>AZGXZ2UUK6X</td>\n      <td>Catherine Hallberg \"(Kate)\"</td>\n      <td>1</td>\n      <td>1</td>\n      <td>positive</td>\n      <td>1076025600</td>\n      <td>a good swingy rhythm for reading aloud</td>\n      <td>This is a great little book to read aloud- it ...</td>\n    </tr>\n    <tr>\n      <th>150508</th>\n      <td>150509</td>\n      <td>0006641040</td>\n      <td>A3CMRKGE0P909G</td>\n      <td>Teresa</td>\n      <td>3</td>\n      <td>4</td>\n      <td>positive</td>\n      <td>1018396800</td>\n      <td>A great way to learn the months</td>\n      <td>This is a book of poetry about the months of t...</td>\n    </tr>\n  </tbody>\n</table>\n</div>"
          },
          "metadata": {}
        }
      ]
    },
    {
      "metadata": {
        "trusted": true,
        "_uuid": "88cf974406c2a6cd7dab4572a359d439b3c55237"
      },
      "cell_type": "code",
      "source": "final_data = final_1",
      "execution_count": 46,
      "outputs": []
    },
    {
      "metadata": {
        "trusted": true,
        "_uuid": "0d7fd2a26ac2178c8a85bbae9f4c553caea391bd"
      },
      "cell_type": "code",
      "source": "from sklearn.model_selection import train_test_split",
      "execution_count": 47,
      "outputs": []
    },
    {
      "metadata": {
        "trusted": true,
        "_uuid": "277ced962650ea6485e51be5806e4e32d47fcd89"
      },
      "cell_type": "code",
      "source": "X_temp, X_test, y_temp, y_test = train_test_split(final_data['Text'], final_data['Score'], test_size= 0.2)",
      "execution_count": 48,
      "outputs": []
    },
    {
      "metadata": {
        "trusted": true,
        "_uuid": "f551ef4a59ac46d69c6346787d223fa9bfa7d754"
      },
      "cell_type": "code",
      "source": "X_train, X_cv, y_train, y_cv = train_test_split(X_temp, y_temp, test_size = 0.2)",
      "execution_count": 49,
      "outputs": []
    },
    {
      "metadata": {
        "trusted": true,
        "_uuid": "f2c83adc80dc254649b5a2c8ceedb43cd9188bf4"
      },
      "cell_type": "code",
      "source": "print(X_train.shape)\nprint(X_test.shape)\nprint(y_train.shape)\nprint(y_test.shape)\nprint(X_cv.shape)\nprint(y_cv.shape)",
      "execution_count": 50,
      "outputs": [
        {
          "output_type": "stream",
          "text": "(6400,)\n(2000,)\n(6400,)\n(2000,)\n(1600,)\n(1600,)\n",
          "name": "stdout"
        }
      ]
    },
    {
      "metadata": {
        "trusted": true,
        "_uuid": "22adebd979e0afeef9f07ea3aca80d4700eac602"
      },
      "cell_type": "code",
      "source": "#bag of words with bigrams\nfrom sklearn.feature_extraction.text import CountVectorizer",
      "execution_count": 51,
      "outputs": []
    },
    {
      "metadata": {
        "trusted": true,
        "_uuid": "5ad411ed42c4ea394388104a842756290f64d9b1"
      },
      "cell_type": "code",
      "source": "#create an object of countvectorizer with bigrams. \ncount_vect = CountVectorizer(ngram_range=(1,2))",
      "execution_count": 52,
      "outputs": []
    },
    {
      "metadata": {
        "trusted": true,
        "_uuid": "e1ea0c98644224e5b534e2dd329075fca5fcae05"
      },
      "cell_type": "code",
      "source": "#fit transform the training values to train the model. transform the test and cv values so that there is no data leak\nfinal_bigram_train = count_vect.fit_transform(X_train.values)\nfinal_bigram_test = count_vect.transform(X_test.values)\nfinal_bigram_cv = count_vect.transform(X_cv.values)",
      "execution_count": 53,
      "outputs": []
    },
    {
      "metadata": {
        "trusted": true,
        "_uuid": "1caa3523bc640632eed65bfe6f9ddbe8c36360aa"
      },
      "cell_type": "code",
      "source": "final_bigram_train.shape",
      "execution_count": 54,
      "outputs": [
        {
          "output_type": "execute_result",
          "execution_count": 54,
          "data": {
            "text/plain": "(6400, 208900)"
          },
          "metadata": {}
        }
      ]
    },
    {
      "metadata": {
        "trusted": true,
        "_uuid": "26c27301c6610285e1881acecdd6e23da0464f98"
      },
      "cell_type": "code",
      "source": "#standardize the data \nfrom sklearn.preprocessing import StandardScaler",
      "execution_count": 55,
      "outputs": []
    },
    {
      "metadata": {
        "trusted": true,
        "_uuid": "6a2240f9ae8a0c204f1ce48c3dd7132687dca78d"
      },
      "cell_type": "code",
      "source": "#create an object for StandardScaler\nsc = StandardScaler(with_mean=False)",
      "execution_count": 56,
      "outputs": []
    },
    {
      "metadata": {
        "trusted": true,
        "_uuid": "d0557a06a2520de2582703128901a0ed17c303bc"
      },
      "cell_type": "code",
      "source": "X_train_standardized = sc.fit_transform(final_bigram_train)\nX_test_standardized = sc.transform(final_bigram_test)\nX_cv_standarized = sc.transform(final_bigram_cv)",
      "execution_count": 57,
      "outputs": [
        {
          "output_type": "stream",
          "text": "/opt/conda/lib/python3.6/site-packages/sklearn/utils/validation.py:595: DataConversionWarning: Data with input dtype int64 was converted to float64 by StandardScaler.\n  warnings.warn(msg, DataConversionWarning)\n",
          "name": "stderr"
        }
      ]
    },
    {
      "metadata": {
        "trusted": true,
        "_uuid": "60ed1471a66cd45ec87449f9ddd9e7e43dff3cbb"
      },
      "cell_type": "code",
      "source": "#to train the model using KNN.\nfrom sklearn.neighbors import KNeighborsClassifier",
      "execution_count": 58,
      "outputs": []
    },
    {
      "metadata": {
        "trusted": true,
        "_uuid": "1cc7049af81db14496fe59363d0e800503f78546"
      },
      "cell_type": "code",
      "source": "#create an object of KNN with default values\nKnn = KNeighborsClassifier()",
      "execution_count": 59,
      "outputs": []
    },
    {
      "metadata": {
        "trusted": true,
        "_uuid": "773e266d5cc9dd2b082f4f0acc341f3903fa1261"
      },
      "cell_type": "code",
      "source": "Knn.fit(X_train_standardized, y_train)",
      "execution_count": 60,
      "outputs": [
        {
          "output_type": "execute_result",
          "execution_count": 60,
          "data": {
            "text/plain": "KNeighborsClassifier(algorithm='auto', leaf_size=30, metric='minkowski',\n           metric_params=None, n_jobs=None, n_neighbors=5, p=2,\n           weights='uniform')"
          },
          "metadata": {}
        }
      ]
    },
    {
      "metadata": {
        "trusted": true,
        "_uuid": "5734b79787564382b0e0ed1f500928bf2d93d38f"
      },
      "cell_type": "code",
      "source": "y_pred = Knn.predict(X_test_standardized)",
      "execution_count": 61,
      "outputs": []
    },
    {
      "metadata": {
        "trusted": true,
        "_uuid": "401fce6fb24ecce0fd08fce0305d72da40f86c6c"
      },
      "cell_type": "code",
      "source": "#to measure the performance of the simple model\nfrom sklearn.metrics import accuracy_score, confusion_matrix, classification_report",
      "execution_count": 62,
      "outputs": []
    },
    {
      "metadata": {
        "trusted": true,
        "_uuid": "2b501b2d797e8310d5aa5583f3af6a90d6a623d7"
      },
      "cell_type": "code",
      "source": "accuracy_score(y_test, y_pred)",
      "execution_count": 63,
      "outputs": [
        {
          "output_type": "execute_result",
          "execution_count": 63,
          "data": {
            "text/plain": "0.847"
          },
          "metadata": {}
        }
      ]
    },
    {
      "metadata": {
        "trusted": true,
        "_uuid": "34364d9ce8a0d57574361b5ec26867d46ccb0943"
      },
      "cell_type": "code",
      "source": "confusion_matrix(y_test, y_pred)",
      "execution_count": 64,
      "outputs": [
        {
          "output_type": "execute_result",
          "execution_count": 64,
          "data": {
            "text/plain": "array([[   0,  306],\n       [   0, 1694]])"
          },
          "metadata": {}
        }
      ]
    },
    {
      "metadata": {
        "trusted": true,
        "_uuid": "ac1c930b0fe39e2c58b8cbe5e0f15a2d2d829573"
      },
      "cell_type": "code",
      "source": "print(classification_report(y_test, y_pred))",
      "execution_count": 65,
      "outputs": [
        {
          "output_type": "stream",
          "text": "              precision    recall  f1-score   support\n\n    negative       0.00      0.00      0.00       306\n    positive       0.85      1.00      0.92      1694\n\n   micro avg       0.85      0.85      0.85      2000\n   macro avg       0.42      0.50      0.46      2000\nweighted avg       0.72      0.85      0.78      2000\n\n",
          "name": "stdout"
        },
        {
          "output_type": "stream",
          "text": "/opt/conda/lib/python3.6/site-packages/sklearn/metrics/classification.py:1143: UndefinedMetricWarning: Precision and F-score are ill-defined and being set to 0.0 in labels with no predicted samples.\n  'precision', 'predicted', average, warn_for)\n",
          "name": "stderr"
        }
      ]
    },
    {
      "metadata": {
        "trusted": true,
        "_uuid": "1389b5d09c1fb254af53d40a7799c2bd8fd2345f"
      },
      "cell_type": "code",
      "source": "#data seems highly imbalanced. \ny_train.value_counts()",
      "execution_count": 66,
      "outputs": [
        {
          "output_type": "execute_result",
          "execution_count": 66,
          "data": {
            "text/plain": "positive    5363\nnegative    1037\nName: Score, dtype: int64"
          },
          "metadata": {}
        }
      ]
    },
    {
      "metadata": {
        "trusted": true,
        "_uuid": "e25029558281fc18025379442724c9be8b23c943"
      },
      "cell_type": "code",
      "source": "y_test.value_counts()",
      "execution_count": 67,
      "outputs": [
        {
          "output_type": "execute_result",
          "execution_count": 67,
          "data": {
            "text/plain": "positive    1694\nnegative     306\nName: Score, dtype: int64"
          },
          "metadata": {}
        }
      ]
    },
    {
      "metadata": {
        "_uuid": "176ddfbfc5639ed78190f72605f448e3b4f0f2a6"
      },
      "cell_type": "markdown",
      "source": "**conclusion:**\n> The above model is created using default values of KNN. The data selected was small and was heavily imbalanced. Hence the results are skewed and all are predicted as positive."
    },
    {
      "metadata": {
        "trusted": true,
        "_uuid": "068f1e424562196cd6544d545d5d52ef565eaca1"
      },
      "cell_type": "code",
      "source": "#lets consider more data and create one more model. split the data keeping the distribution of the Score same\n#across the split",
      "execution_count": 69,
      "outputs": []
    },
    {
      "metadata": {
        "trusted": true,
        "_uuid": "ce3b233ba4a5982eb300529d01091eb0a0dea73e"
      },
      "cell_type": "code",
      "source": "final_1 = final[:30000]\nfinal_1['Text'] = final_1['Text'].apply(cleanhtml)\nfinal_1['Text'] = final_1['Text'].apply(cleanpunc)\nfinal_data = final_1",
      "execution_count": 81,
      "outputs": [
        {
          "output_type": "stream",
          "text": "/opt/conda/lib/python3.6/site-packages/ipykernel_launcher.py:2: SettingWithCopyWarning: \nA value is trying to be set on a copy of a slice from a DataFrame.\nTry using .loc[row_indexer,col_indexer] = value instead\n\nSee the caveats in the documentation: http://pandas.pydata.org/pandas-docs/stable/indexing.html#indexing-view-versus-copy\n  \n/opt/conda/lib/python3.6/site-packages/ipykernel_launcher.py:3: SettingWithCopyWarning: \nA value is trying to be set on a copy of a slice from a DataFrame.\nTry using .loc[row_indexer,col_indexer] = value instead\n\nSee the caveats in the documentation: http://pandas.pydata.org/pandas-docs/stable/indexing.html#indexing-view-versus-copy\n  This is separate from the ipykernel package so we can avoid doing imports until\n",
          "name": "stderr"
        }
      ]
    },
    {
      "metadata": {
        "trusted": true,
        "_uuid": "cb4b81a95a9ea649c4f795aa4ebcb9cd21f76e98"
      },
      "cell_type": "code",
      "source": "X_temp, X_test, y_temp, y_test = train_test_split(final_data['Text'], final_data['Score'], test_size= 0.2, stratify = final_data['Score'])",
      "execution_count": 82,
      "outputs": []
    },
    {
      "metadata": {
        "trusted": true,
        "_uuid": "8c99c0912872c0d6a0e7298468a4e86d3b45b044"
      },
      "cell_type": "code",
      "source": "X_train, X_cv, y_train, y_cv = train_test_split(X_temp, y_temp, test_size = 0.2, stratify = y_temp)",
      "execution_count": 83,
      "outputs": []
    },
    {
      "metadata": {
        "trusted": true,
        "_uuid": "f30a839dfb5bc5007c47b8ef9e5ad5254cc66bd4"
      },
      "cell_type": "code",
      "source": "print(X_train.shape)\nprint(X_test.shape)\nprint(y_train.shape)\nprint(y_test.shape)\nprint(X_cv.shape)\nprint(y_cv.shape)",
      "execution_count": 84,
      "outputs": [
        {
          "output_type": "stream",
          "text": "(19200,)\n(6000,)\n(19200,)\n(6000,)\n(4800,)\n(4800,)\n",
          "name": "stdout"
        }
      ]
    },
    {
      "metadata": {
        "trusted": true,
        "_uuid": "3e49ffa8ac6375268614088c1ca6dae353a88a8e"
      },
      "cell_type": "code",
      "source": "#create an object of countvectorizer with bigrams. \ncount_vect_2 = CountVectorizer(ngram_range=(1,2))",
      "execution_count": 85,
      "outputs": []
    },
    {
      "metadata": {
        "trusted": true,
        "_uuid": "9bf505e98e4521ef65e200c3eb53cded2cfe43ff"
      },
      "cell_type": "code",
      "source": "#fit transform the training values to train the model. transform the test and cv values so that there is no data leak\nfinal_bigram_train = count_vect_2.fit_transform(X_train.values)\nfinal_bigram_test = count_vect_2.transform(X_test.values)\nfinal_bigram_cv = count_vect_2.transform(X_cv.values)",
      "execution_count": 86,
      "outputs": []
    },
    {
      "metadata": {
        "trusted": true,
        "_uuid": "dc52443b14b54b4cba7d9e4546361c895e81522c"
      },
      "cell_type": "code",
      "source": "final_bigram_train.shape",
      "execution_count": 87,
      "outputs": [
        {
          "output_type": "execute_result",
          "execution_count": 87,
          "data": {
            "text/plain": "(19200, 444363)"
          },
          "metadata": {}
        }
      ]
    },
    {
      "metadata": {
        "trusted": true,
        "_uuid": "781dd9a04b284224c320eece6e916e51d4272a5c"
      },
      "cell_type": "code",
      "source": "#create an object for StandardScaler\nsc = StandardScaler(with_mean=False)",
      "execution_count": 88,
      "outputs": []
    },
    {
      "metadata": {
        "trusted": true,
        "_uuid": "715b0c741e046b00635338a184320819d2fd1bb4"
      },
      "cell_type": "code",
      "source": "X_train_standardized = sc.fit_transform(final_bigram_train)\nX_test_standardized = sc.transform(final_bigram_test)\nX_cv_standarized = sc.transform(final_bigram_cv)",
      "execution_count": 89,
      "outputs": [
        {
          "output_type": "stream",
          "text": "/opt/conda/lib/python3.6/site-packages/sklearn/utils/validation.py:595: DataConversionWarning: Data with input dtype int64 was converted to float64 by StandardScaler.\n  warnings.warn(msg, DataConversionWarning)\n",
          "name": "stderr"
        }
      ]
    },
    {
      "metadata": {
        "trusted": true,
        "_uuid": "94a02c91ee5b2bf0d9c65bdd9ec2396e60211e40"
      },
      "cell_type": "code",
      "source": "#create an object of KNN with default values\nKnn_2 = KNeighborsClassifier(weights='distance')",
      "execution_count": 103,
      "outputs": []
    },
    {
      "metadata": {
        "trusted": true,
        "_uuid": "3c022d60a67dce5c1db2a83f45859dabe796b19c"
      },
      "cell_type": "code",
      "source": "Knn_2.fit(X_train_standardized, y_train)",
      "execution_count": 104,
      "outputs": [
        {
          "output_type": "execute_result",
          "execution_count": 104,
          "data": {
            "text/plain": "KNeighborsClassifier(algorithm='auto', leaf_size=30, metric='minkowski',\n           metric_params=None, n_jobs=None, n_neighbors=5, p=2,\n           weights='distance')"
          },
          "metadata": {}
        }
      ]
    },
    {
      "metadata": {
        "trusted": true,
        "_uuid": "68e954f2e67a6d6148808ec7b1c09ae9e903bb7e"
      },
      "cell_type": "code",
      "source": "y_pred = Knn_2.predict(X_test_standardized)",
      "execution_count": 105,
      "outputs": []
    },
    {
      "metadata": {
        "trusted": true,
        "_uuid": "e56903ca3b6d22e359e572dda79d7390e1ca3746"
      },
      "cell_type": "code",
      "source": "accuracy_score(y_test, y_pred)",
      "execution_count": 106,
      "outputs": [
        {
          "output_type": "execute_result",
          "execution_count": 106,
          "data": {
            "text/plain": "0.8516666666666667"
          },
          "metadata": {}
        }
      ]
    },
    {
      "metadata": {
        "trusted": true,
        "_uuid": "9feae2ba7432371127b01efb08eb4b6e4b21d58c"
      },
      "cell_type": "code",
      "source": "confusion_matrix(y_test, y_pred)",
      "execution_count": 107,
      "outputs": [
        {
          "output_type": "execute_result",
          "execution_count": 107,
          "data": {
            "text/plain": "array([[  11,  890],\n       [   0, 5099]])"
          },
          "metadata": {}
        }
      ]
    },
    {
      "metadata": {
        "trusted": true,
        "_uuid": "9fd399987ea33cba647d1144940e2e3918c31888"
      },
      "cell_type": "code",
      "source": "print(classification_report(y_test, y_pred))",
      "execution_count": 108,
      "outputs": [
        {
          "output_type": "stream",
          "text": "              precision    recall  f1-score   support\n\n    negative       1.00      0.01      0.02       901\n    positive       0.85      1.00      0.92      5099\n\n   micro avg       0.85      0.85      0.85      6000\n   macro avg       0.93      0.51      0.47      6000\nweighted avg       0.87      0.85      0.79      6000\n\n",
          "name": "stdout"
        }
      ]
    },
    {
      "metadata": {
        "_uuid": "e8141c0eb05c60f91ee20ae7361dddb516e518da"
      },
      "cell_type": "markdown",
      "source": "**Conclusion:**\n>The data was increased 3 times. The data imbalance is causing the model to predict all data to one class only."
    },
    {
      "metadata": {
        "trusted": true,
        "_uuid": "89b6e0eeffad2c004f001777e09e523dcdb67708"
      },
      "cell_type": "code",
      "source": "",
      "execution_count": 109,
      "outputs": []
    },
    {
      "metadata": {
        "trusted": true,
        "_uuid": "c3ed3a86f6d5266adc646a34053250851d0e8f10"
      },
      "cell_type": "code",
      "source": "from sklearn.model_selection import cross_val_score",
      "execution_count": 110,
      "outputs": []
    },
    {
      "metadata": {
        "trusted": true,
        "_uuid": "0acdf026fe2175bdc358b0dd9aa7b19cdfbaedae"
      },
      "cell_type": "code",
      "source": "final_1 = final[:50000]\nfinal_1['Text'] = final_1['Text'].apply(cleanhtml)\nfinal_1['Text'] = final_1['Text'].apply(cleanpunc)\nfinal_data = final_1",
      "execution_count": 116,
      "outputs": [
        {
          "output_type": "stream",
          "text": "/opt/conda/lib/python3.6/site-packages/ipykernel_launcher.py:2: SettingWithCopyWarning: \nA value is trying to be set on a copy of a slice from a DataFrame.\nTry using .loc[row_indexer,col_indexer] = value instead\n\nSee the caveats in the documentation: http://pandas.pydata.org/pandas-docs/stable/indexing.html#indexing-view-versus-copy\n  \n/opt/conda/lib/python3.6/site-packages/ipykernel_launcher.py:3: SettingWithCopyWarning: \nA value is trying to be set on a copy of a slice from a DataFrame.\nTry using .loc[row_indexer,col_indexer] = value instead\n\nSee the caveats in the documentation: http://pandas.pydata.org/pandas-docs/stable/indexing.html#indexing-view-versus-copy\n  This is separate from the ipykernel package so we can avoid doing imports until\n",
          "name": "stderr"
        }
      ]
    },
    {
      "metadata": {
        "trusted": true,
        "_uuid": "bbc98d56c9f5550ae0c5ee5cad3a678aa730fc01"
      },
      "cell_type": "code",
      "source": "",
      "execution_count": null,
      "outputs": []
    },
    {
      "metadata": {
        "trusted": true,
        "_uuid": "b87fcc1173c0a9f466468c2653c80748e2db5d29"
      },
      "cell_type": "code",
      "source": "X_train, X_test, y_train, y_test =  train_test_split(final_data['Text'], final_data['Score_n'], test_size = 0.25, stratify = final_data['Score_n'])",
      "execution_count": 117,
      "outputs": []
    },
    {
      "metadata": {
        "trusted": true,
        "_uuid": "edd955e79cf1b9c4fd90ee866262f58109306e94"
      },
      "cell_type": "code",
      "source": "",
      "execution_count": null,
      "outputs": []
    },
    {
      "metadata": {
        "trusted": true,
        "_uuid": "1be34e44e31eb587376f999f3bff885c263193fe"
      },
      "cell_type": "code",
      "source": "#create an object of countvectorizer with bigrams. \ncount_vect_3 = CountVectorizer(ngram_range=(1,2))",
      "execution_count": 119,
      "outputs": []
    },
    {
      "metadata": {
        "trusted": true,
        "_uuid": "799dd8658cf0e03c0c2071471ac064ba9006eb9e"
      },
      "cell_type": "code",
      "source": "#fit transform the training values to train the model. transform the test and cv values so that there is no data leak\nfinal_bigram_train = count_vect_3.fit_transform(X_train.values)\nfinal_bigram_test = count_vect_3.transform(X_test.values)",
      "execution_count": 120,
      "outputs": []
    },
    {
      "metadata": {
        "trusted": true,
        "_uuid": "418df3a65cf621a39797d9fe21468e2a871016d3"
      },
      "cell_type": "code",
      "source": "#create an object for StandardScaler\nsc = StandardScaler(with_mean=False)",
      "execution_count": 121,
      "outputs": []
    },
    {
      "metadata": {
        "trusted": true,
        "_uuid": "75705013131aa4ac81cb7a61e66376a8d434f181"
      },
      "cell_type": "code",
      "source": "X_train_standardized = sc.fit_transform(final_bigram_train)\nX_test_standardized = sc.transform(final_bigram_test)",
      "execution_count": 122,
      "outputs": [
        {
          "output_type": "stream",
          "text": "/opt/conda/lib/python3.6/site-packages/sklearn/utils/validation.py:595: DataConversionWarning: Data with input dtype int64 was converted to float64 by StandardScaler.\n  warnings.warn(msg, DataConversionWarning)\n",
          "name": "stderr"
        }
      ]
    },
    {
      "metadata": {
        "trusted": true,
        "_uuid": "62659d8eb66f8ee9cf689dfe1ff7e0f88d835d62"
      },
      "cell_type": "code",
      "source": "k = [5,11,25, 49,75,99]\ncv_score = []\nfor i in k:\n    knn3 = KNeighborsClassifier(n_neighbors=i,weights='distance')\n    sc = cross_val_score(knn3, X = X_train_standardized,y = y_train,scoring = 'precision',cv = 5)\n    cv_score.append(sc.mean())\n    ",
      "execution_count": 132,
      "outputs": []
    },
    {
      "metadata": {
        "trusted": true,
        "_uuid": "4a60fb54f63b12d3668bd6515df195615372028c"
      },
      "cell_type": "code",
      "source": "cv_score = np.array(cv_score)",
      "execution_count": 142,
      "outputs": []
    },
    {
      "metadata": {
        "trusted": true,
        "_uuid": "b37a9d746ae174a3bd7a4f945b52ecc6f8166876"
      },
      "cell_type": "code",
      "source": "maxv = cv_score.max()",
      "execution_count": 143,
      "outputs": []
    },
    {
      "metadata": {
        "trusted": true,
        "_uuid": "bb4d84d833ca778da7dfce93428da63b67bba858"
      },
      "cell_type": "code",
      "source": "opt_index = cv_score.argmax()",
      "execution_count": 145,
      "outputs": []
    },
    {
      "metadata": {
        "trusted": true,
        "_uuid": "5cb3b3587d8fec2b3de63f4693eb867e8760413c"
      },
      "cell_type": "code",
      "source": "k[opt_index]",
      "execution_count": 146,
      "outputs": [
        {
          "output_type": "execute_result",
          "execution_count": 146,
          "data": {
            "text/plain": "5"
          },
          "metadata": {}
        }
      ]
    },
    {
      "metadata": {
        "trusted": true,
        "_uuid": "fd9543756413fbdeb79f1fbbc4dfa25ffc9b7b48"
      },
      "cell_type": "code",
      "source": "knn_4 = KNeighborsClassifier(n_neighbors=5, weights='distance')\nknn_4.fit(X_train_standardized, y_train)\ny_pred = knn_4.predict(X_test_standardized)\nprint(accuracy_score(y_test, y_pred))\nprint(confusion_matrix(y_test, y_pred))",
      "execution_count": 147,
      "outputs": [
        {
          "output_type": "stream",
          "text": "0.85168\n[[   11  1854]\n [    0 10635]]\n",
          "name": "stdout"
        }
      ]
    },
    {
      "metadata": {
        "trusted": true,
        "_uuid": "4c586d8719a85b0604b1c2d4230b7125f339f51e"
      },
      "cell_type": "code",
      "source": "#the K=5 value was used and the result was skewed due to imbalanced data. Using precision as score did not make the model better",
      "execution_count": 148,
      "outputs": []
    },
    {
      "metadata": {
        "_uuid": "71532f617ae84f909e09801e3dc22f6aae8869d3"
      },
      "cell_type": "markdown",
      "source": "**Part 2**\n>lets apply logistic regression for the data and understand the performance "
    },
    {
      "metadata": {
        "trusted": true,
        "_uuid": "3734a4be2ce4faa3473a5a2ac1ecefaa538f58d7"
      },
      "cell_type": "code",
      "source": "from sklearn.linear_model import LogisticRegression",
      "execution_count": 149,
      "outputs": []
    },
    {
      "metadata": {
        "trusted": true,
        "_uuid": "5b03635be7dfc413f2e28380a85d6728d617f868"
      },
      "cell_type": "code",
      "source": "#creating the logistic regression object with default values\nlrmodel = LogisticRegression()",
      "execution_count": 150,
      "outputs": []
    },
    {
      "metadata": {
        "trusted": true,
        "_uuid": "51af9a3588f704ad4ef3d8b8819d1096e3639d1a"
      },
      "cell_type": "code",
      "source": "lrmodel.fit(X_train_standardized, y_train)",
      "execution_count": 151,
      "outputs": [
        {
          "output_type": "stream",
          "text": "/opt/conda/lib/python3.6/site-packages/sklearn/linear_model/logistic.py:433: FutureWarning: Default solver will be changed to 'lbfgs' in 0.22. Specify a solver to silence this warning.\n  FutureWarning)\n",
          "name": "stderr"
        },
        {
          "output_type": "execute_result",
          "execution_count": 151,
          "data": {
            "text/plain": "LogisticRegression(C=1.0, class_weight=None, dual=False, fit_intercept=True,\n          intercept_scaling=1, max_iter=100, multi_class='warn',\n          n_jobs=None, penalty='l2', random_state=None, solver='warn',\n          tol=0.0001, verbose=0, warm_start=False)"
          },
          "metadata": {}
        }
      ]
    },
    {
      "metadata": {
        "trusted": true,
        "_uuid": "241f479e8276048520445380c9dd458b969e8454"
      },
      "cell_type": "code",
      "source": "y_pred = lrmodel.predict(X_test_standardized)",
      "execution_count": 152,
      "outputs": []
    },
    {
      "metadata": {
        "trusted": true,
        "_uuid": "43ff0efe272c0a95152defe65cd7ffe2acb7fd21"
      },
      "cell_type": "code",
      "source": "accuracy_score(y_test, y_pred)",
      "execution_count": 153,
      "outputs": [
        {
          "output_type": "execute_result",
          "execution_count": 153,
          "data": {
            "text/plain": "0.89392"
          },
          "metadata": {}
        }
      ]
    },
    {
      "metadata": {
        "trusted": true,
        "_uuid": "47681621d56e3f6b71c88408d7d4b3cf324e3f8d"
      },
      "cell_type": "code",
      "source": "confusion_matrix(y_test, y_pred)",
      "execution_count": 154,
      "outputs": [
        {
          "output_type": "execute_result",
          "execution_count": 154,
          "data": {
            "text/plain": "array([[  602,  1263],\n       [   63, 10572]])"
          },
          "metadata": {}
        }
      ]
    },
    {
      "metadata": {
        "trusted": true,
        "scrolled": true,
        "_uuid": "8db246865fccf0ef3d70f16bf1e88722cfa088cc"
      },
      "cell_type": "code",
      "source": "print(classification_report(y_test, y_pred))",
      "execution_count": 155,
      "outputs": [
        {
          "output_type": "stream",
          "text": "              precision    recall  f1-score   support\n\n           0       0.91      0.32      0.48      1865\n           1       0.89      0.99      0.94     10635\n\n   micro avg       0.89      0.89      0.89     12500\n   macro avg       0.90      0.66      0.71     12500\nweighted avg       0.90      0.89      0.87     12500\n\n",
          "name": "stdout"
        }
      ]
    },
    {
      "metadata": {
        "_uuid": "190e23b94890de7d4be3b0fc286c23a5b85e9b74"
      },
      "cell_type": "markdown",
      "source": "Remark\nThe logistic regression gives good result with accuracy of 89% . It has good precision but has poor values for recall and f1 score"
    },
    {
      "metadata": {
        "trusted": true,
        "_uuid": "5c651f57880e793a2d9eecc42565711df6019639"
      },
      "cell_type": "code",
      "source": "#lets improve the model by varying the hyperparameter.",
      "execution_count": 159,
      "outputs": []
    },
    {
      "metadata": {
        "trusted": true,
        "_uuid": "c20de17786df97b62417e105577c705d9de2ee23"
      },
      "cell_type": "code",
      "source": "C = [1,10, 20,50,70,100]\ncv_scores = []\nfor c in C:\n    lrmodel_2 = LogisticRegression(C=c)\n    sc = cross_val_score(lrmodel_2, X = X_train_standardized, y = y_train, cv=5, scoring = 'f1_macro')\n    cv_scores.append(sc.mean())\n    ",
      "execution_count": 168,
      "outputs": [
        {
          "output_type": "stream",
          "text": "/opt/conda/lib/python3.6/site-packages/sklearn/linear_model/logistic.py:433: FutureWarning: Default solver will be changed to 'lbfgs' in 0.22. Specify a solver to silence this warning.\n  FutureWarning)\n/opt/conda/lib/python3.6/site-packages/sklearn/linear_model/logistic.py:433: FutureWarning: Default solver will be changed to 'lbfgs' in 0.22. Specify a solver to silence this warning.\n  FutureWarning)\n/opt/conda/lib/python3.6/site-packages/sklearn/linear_model/logistic.py:433: FutureWarning: Default solver will be changed to 'lbfgs' in 0.22. Specify a solver to silence this warning.\n  FutureWarning)\n/opt/conda/lib/python3.6/site-packages/sklearn/linear_model/logistic.py:433: FutureWarning: Default solver will be changed to 'lbfgs' in 0.22. Specify a solver to silence this warning.\n  FutureWarning)\n/opt/conda/lib/python3.6/site-packages/sklearn/linear_model/logistic.py:433: FutureWarning: Default solver will be changed to 'lbfgs' in 0.22. Specify a solver to silence this warning.\n  FutureWarning)\n/opt/conda/lib/python3.6/site-packages/sklearn/linear_model/logistic.py:433: FutureWarning: Default solver will be changed to 'lbfgs' in 0.22. Specify a solver to silence this warning.\n  FutureWarning)\n",
          "name": "stderr"
        }
      ]
    },
    {
      "metadata": {
        "trusted": true,
        "_uuid": "c088122fc4434431580ef92f20a572e358b4432d"
      },
      "cell_type": "code",
      "source": "cv_scores",
      "execution_count": 169,
      "outputs": [
        {
          "output_type": "execute_result",
          "execution_count": 169,
          "data": {
            "text/plain": "[0.6253481263962938,\n 0.6349818222907931,\n 0.6371629974306074,\n 0.637480753899925,\n 0.6376101515535507,\n 0.6377052984260014]"
          },
          "metadata": {}
        }
      ]
    },
    {
      "metadata": {
        "trusted": true,
        "_uuid": "e7b175cc4ef034020ec75a8cd37060ddc290f9e8"
      },
      "cell_type": "code",
      "source": "#maximum score is for C = 100",
      "execution_count": 170,
      "outputs": []
    },
    {
      "metadata": {
        "trusted": true,
        "_uuid": "9fba9fed8550dc38a13134a116b3cab0e947b00f"
      },
      "cell_type": "code",
      "source": "lrmodel_3 = LogisticRegression(C=100)",
      "execution_count": 171,
      "outputs": []
    },
    {
      "metadata": {
        "trusted": true,
        "_uuid": "6229a6c11590d592b534394ca646429a5981f51e"
      },
      "cell_type": "code",
      "source": "lrmodel_3.fit(X_train_standardized, y_train)",
      "execution_count": 172,
      "outputs": [
        {
          "output_type": "stream",
          "text": "/opt/conda/lib/python3.6/site-packages/sklearn/linear_model/logistic.py:433: FutureWarning: Default solver will be changed to 'lbfgs' in 0.22. Specify a solver to silence this warning.\n  FutureWarning)\n",
          "name": "stderr"
        },
        {
          "output_type": "execute_result",
          "execution_count": 172,
          "data": {
            "text/plain": "LogisticRegression(C=100, class_weight=None, dual=False, fit_intercept=True,\n          intercept_scaling=1, max_iter=100, multi_class='warn',\n          n_jobs=None, penalty='l2', random_state=None, solver='warn',\n          tol=0.0001, verbose=0, warm_start=False)"
          },
          "metadata": {}
        }
      ]
    },
    {
      "metadata": {
        "trusted": true,
        "_uuid": "1077152254a248041ad2354249f3ef6b5a827843"
      },
      "cell_type": "code",
      "source": "y_pred = lrmodel_3.predict(X_test_standardized)",
      "execution_count": 173,
      "outputs": []
    },
    {
      "metadata": {
        "trusted": true,
        "_uuid": "32c3aa517306e95bebe18c2df6249bb2fd78efba"
      },
      "cell_type": "code",
      "source": "accuracy_score(y_test, y_pred)",
      "execution_count": 174,
      "outputs": [
        {
          "output_type": "execute_result",
          "execution_count": 174,
          "data": {
            "text/plain": "0.8964"
          },
          "metadata": {}
        }
      ]
    },
    {
      "metadata": {
        "trusted": true,
        "_uuid": "e7f99d636056bdf6ac8e1b131ee04a453c5f10d9"
      },
      "cell_type": "code",
      "source": "confusion_matrix(y_test, y_pred)",
      "execution_count": 175,
      "outputs": [
        {
          "output_type": "execute_result",
          "execution_count": 175,
          "data": {
            "text/plain": "array([[  650,  1215],\n       [   80, 10555]])"
          },
          "metadata": {}
        }
      ]
    },
    {
      "metadata": {
        "trusted": true,
        "_uuid": "226361e37d2cbfca9ddee89e9c1dd27820bbdde8"
      },
      "cell_type": "code",
      "source": "print(classification_report(y_test, y_pred))",
      "execution_count": 176,
      "outputs": [
        {
          "output_type": "stream",
          "text": "              precision    recall  f1-score   support\n\n           0       0.89      0.35      0.50      1865\n           1       0.90      0.99      0.94     10635\n\n   micro avg       0.90      0.90      0.90     12500\n   macro avg       0.89      0.67      0.72     12500\nweighted avg       0.90      0.90      0.88     12500\n\n",
          "name": "stdout"
        }
      ]
    },
    {
      "metadata": {
        "trusted": true,
        "_uuid": "d1489b830f1144046e86c2982e9c98421e9489b3"
      },
      "cell_type": "code",
      "source": "#the model is improved than the previous model",
      "execution_count": 177,
      "outputs": []
    },
    {
      "metadata": {
        "trusted": true,
        "_uuid": "8a9726d66c14775122ba6b952e8ea86a43a7e8e3"
      },
      "cell_type": "code",
      "source": "y_train.value_counts()",
      "execution_count": 178,
      "outputs": [
        {
          "output_type": "execute_result",
          "execution_count": 178,
          "data": {
            "text/plain": "1    31905\n0     5595\nName: Score_n, dtype: int64"
          },
          "metadata": {}
        }
      ]
    },
    {
      "metadata": {
        "trusted": true,
        "_uuid": "ad69242ef65249974f8e0aa5931a8c7b6f71b4b2"
      },
      "cell_type": "code",
      "source": "#different class weights are provided to see if the prediction improved",
      "execution_count": null,
      "outputs": []
    },
    {
      "metadata": {
        "trusted": true,
        "_uuid": "acca935375c6dae93a274e76fe9e12c917c21bc7"
      },
      "cell_type": "code",
      "source": "lrmodel_4 = LogisticRegression(C = 100, class_weight={1:1,0:3})",
      "execution_count": 208,
      "outputs": []
    },
    {
      "metadata": {
        "trusted": true,
        "_uuid": "5645cf9937cb5ffef7642d8f890150158f07be97"
      },
      "cell_type": "code",
      "source": "lrmodel_4.fit(X_train_standardized, y_train)",
      "execution_count": 209,
      "outputs": [
        {
          "output_type": "stream",
          "text": "/opt/conda/lib/python3.6/site-packages/sklearn/linear_model/logistic.py:433: FutureWarning: Default solver will be changed to 'lbfgs' in 0.22. Specify a solver to silence this warning.\n  FutureWarning)\n",
          "name": "stderr"
        },
        {
          "output_type": "execute_result",
          "execution_count": 209,
          "data": {
            "text/plain": "LogisticRegression(C=100, class_weight={1: 1, 0: 3}, dual=False,\n          fit_intercept=True, intercept_scaling=1, max_iter=100,\n          multi_class='warn', n_jobs=None, penalty='l2', random_state=None,\n          solver='warn', tol=0.0001, verbose=0, warm_start=False)"
          },
          "metadata": {}
        }
      ]
    },
    {
      "metadata": {
        "trusted": true,
        "_uuid": "2b51428531cb552ea2a516125d09609c9e3dc063"
      },
      "cell_type": "code",
      "source": "y_pred = lrmodel_4.predict(X_test_standardized)",
      "execution_count": 210,
      "outputs": []
    },
    {
      "metadata": {
        "trusted": true,
        "_uuid": "207b54d9c542103128f36342f8c2c32b2d15e116"
      },
      "cell_type": "code",
      "source": "accuracy_score(y_test, y_pred)",
      "execution_count": 211,
      "outputs": [
        {
          "output_type": "execute_result",
          "execution_count": 211,
          "data": {
            "text/plain": "0.8972"
          },
          "metadata": {}
        }
      ]
    },
    {
      "metadata": {
        "trusted": true,
        "_uuid": "29f3799fb39c5b63cfcf35bed736863fba5c5cd2"
      },
      "cell_type": "code",
      "source": "confusion_matrix(y_test, y_pred)",
      "execution_count": 212,
      "outputs": [
        {
          "output_type": "execute_result",
          "execution_count": 212,
          "data": {
            "text/plain": "array([[  662,  1203],\n       [   82, 10553]])"
          },
          "metadata": {}
        }
      ]
    },
    {
      "metadata": {
        "trusted": true,
        "_uuid": "25c7ec36775fcfad82236e21e5b03371067bea66"
      },
      "cell_type": "code",
      "source": "print(classification_report(y_test, y_pred))",
      "execution_count": 213,
      "outputs": [
        {
          "output_type": "stream",
          "text": "              precision    recall  f1-score   support\n\n           0       0.89      0.35      0.51      1865\n           1       0.90      0.99      0.94     10635\n\n   micro avg       0.90      0.90      0.90     12500\n   macro avg       0.89      0.67      0.73     12500\nweighted avg       0.90      0.90      0.88     12500\n\n",
          "name": "stdout"
        }
      ]
    },
    {
      "metadata": {
        "trusted": true,
        "_uuid": "e2fe9ab2f86a0c44710b6ee3d8ead9e0a4c5cac2"
      },
      "cell_type": "code",
      "source": "#it is seen that the confusion matrix prediction improved for the weight 1:3",
      "execution_count": 216,
      "outputs": []
    },
    {
      "metadata": {
        "trusted": true,
        "_uuid": "ff5b640f16d06c7c26ea33fd5affb8f06977dcad"
      },
      "cell_type": "code",
      "source": "",
      "execution_count": null,
      "outputs": []
    }
  ],
  "metadata": {
    "kernelspec": {
      "display_name": "Python 3",
      "language": "python",
      "name": "python3"
    },
    "language_info": {
      "name": "python",
      "version": "3.6.6",
      "mimetype": "text/x-python",
      "codemirror_mode": {
        "name": "ipython",
        "version": 3
      },
      "pygments_lexer": "ipython3",
      "nbconvert_exporter": "python",
      "file_extension": ".py"
    }
  },
  "nbformat": 4,
  "nbformat_minor": 1
}