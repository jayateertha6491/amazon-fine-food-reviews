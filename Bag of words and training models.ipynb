{
  "cells": [
    {
      "metadata": {
        "_uuid": "8f2839f25d086af736a60e9eeb907d3b93b6e0e5",
        "_cell_guid": "b1076dfc-b9ad-4769-8c92-a6c4dae69d19",
        "trusted": true
      },
      "cell_type": "code",
      "source": "# This Python 3 environment comes with many helpful analytics libraries installed\n# It is defined by the kaggle/python docker image: https://github.com/kaggle/docker-python\n# For example, here's several helpful packages to load in \n\nimport numpy as np # linear algebra\nimport pandas as pd # data processing, CSV file I/O (e.g. pd.read_csv)\n\n# Input data files are available in the \"../input/\" directory.\n# For example, running this (by clicking run or pressing Shift+Enter) will list the files in the input directory\n\nimport os\nprint(os.listdir(\"../input\"))\n\n# Any results you write to the current directory are saved as output.",
      "execution_count": 1,
      "outputs": [
        {
          "output_type": "stream",
          "text": "['database.sqlite', 'hashes.txt', 'Reviews.csv']\n",
          "name": "stdout"
        }
      ]
    },
    {
      "metadata": {
        "_cell_guid": "79c7e3d0-c299-4dcb-8224-4455121ee9b0",
        "_uuid": "d629ff2d2480ee46fbb7e2d37f6b5fab8052498a",
        "trusted": true
      },
      "cell_type": "code",
      "source": "import matplotlib.pyplot as plt\nimport re\nimport string\nfrom sklearn.model_selection import train_test_split\nfrom sklearn.feature_extraction.text import TfidfVectorizer\nfrom sklearn.feature_extraction.text import CountVectorizer\nfrom sklearn.feature_extraction.text import TfidfTransformer\nfrom sklearn.preprocessing import StandardScaler\nfrom sklearn.neighbors import KNeighborsClassifier\nfrom sklearn.linear_model import LogisticRegression\nfrom sklearn.linear_model import SGDClassifier\nfrom sklearn.naive_bayes import BernoulliNB\nfrom sklearn.svm import SVC\nfrom sklearn.tree import DecisionTreeClassifier\nfrom sklearn.metrics import accuracy_score, confusion_matrix, classification_report\nfrom sklearn.model_selection import cross_val_score\nfrom sklearn.model_selection import GridSearchCV\nimport warnings\nwarnings.filterwarnings('ignore')\nimport time\nimport tqdm",
      "execution_count": 2,
      "outputs": []
    },
    {
      "metadata": {
        "trusted": true,
        "_uuid": "da859d52bac650f0b603c83f438eb4f63694fed0"
      },
      "cell_type": "code",
      "source": "data = pd.read_csv('../input/Reviews.csv')",
      "execution_count": 3,
      "outputs": []
    },
    {
      "metadata": {
        "trusted": true,
        "_uuid": "5f00236d740e29528c16f8c9b470d44f94519719"
      },
      "cell_type": "code",
      "source": "print(data.head(5))\nprint(data.shape)",
      "execution_count": 4,
      "outputs": [
        {
          "output_type": "stream",
          "text": "   Id                        ...                                                                       Text\n0   1                        ...                          I have bought several of the Vitality canned d...\n1   2                        ...                          Product arrived labeled as Jumbo Salted Peanut...\n2   3                        ...                          This is a confection that has been around a fe...\n3   4                        ...                          If you are looking for the secret ingredient i...\n4   5                        ...                          Great taffy at a great price.  There was a wid...\n\n[5 rows x 10 columns]\n(568454, 10)\n",
          "name": "stdout"
        }
      ]
    },
    {
      "metadata": {
        "trusted": true,
        "_uuid": "e0cc5a0103bcd4ff0d190bd319a1d20429ec3c29"
      },
      "cell_type": "code",
      "source": "#to remove the datapoints which are neither positive nor negative\ndata = data[data['Score']!=3]",
      "execution_count": 5,
      "outputs": []
    },
    {
      "metadata": {
        "trusted": true,
        "_uuid": "5514f221d4dfae099a6d2323bec5ebb7f4e26138"
      },
      "cell_type": "code",
      "source": "data.shape",
      "execution_count": 6,
      "outputs": [
        {
          "output_type": "execute_result",
          "execution_count": 6,
          "data": {
            "text/plain": "(525814, 10)"
          },
          "metadata": {}
        }
      ]
    },
    {
      "metadata": {
        "trusted": true,
        "_uuid": "e52d7e323174bd775c9926c92314bec9858530fa"
      },
      "cell_type": "code",
      "source": "#for score>3, it is 'positive' review and score<3 is 'negative' review\ndef partition(x):\n    if x>3:\n        return 'positive'\n    else:\n        return 'negative'",
      "execution_count": 7,
      "outputs": []
    },
    {
      "metadata": {
        "trusted": true,
        "_uuid": "beacdcc47daf0105374e579288c37a2dfe8a9164"
      },
      "cell_type": "code",
      "source": "data['Score'] = data['Score'].apply(partition)",
      "execution_count": 8,
      "outputs": []
    },
    {
      "metadata": {
        "trusted": true,
        "_uuid": "ed9f19509d8121af745b91c5c92580cad6b3f4ba"
      },
      "cell_type": "code",
      "source": "sorted_data = data.sort_values(by='ProductId', axis=0)",
      "execution_count": 9,
      "outputs": []
    },
    {
      "metadata": {
        "trusted": true,
        "_uuid": "02823ac14ef426a79fc52fa343f362412f7ceea7"
      },
      "cell_type": "code",
      "source": "final = sorted_data.drop_duplicates(subset={\"UserId\",\"Time\",\"Text\",\"ProfileName\"})\nfinal['Id'].size/sorted_data['Id'].size",
      "execution_count": 10,
      "outputs": [
        {
          "output_type": "execute_result",
          "execution_count": 10,
          "data": {
            "text/plain": "0.6925890143662968"
          },
          "metadata": {}
        }
      ]
    },
    {
      "metadata": {
        "trusted": true,
        "_uuid": "25082db0d686455f0cf4cc89bc67385b51b2a141"
      },
      "cell_type": "code",
      "source": "final = final[final.HelpfulnessNumerator<=final.HelpfulnessDenominator]",
      "execution_count": 11,
      "outputs": []
    },
    {
      "metadata": {
        "trusted": true,
        "_uuid": "760b859333350273ef1c1ceb770a2154f7404952"
      },
      "cell_type": "code",
      "source": "final['Score_n'] = final['Score'].apply(lambda x:1 if x == 'positive' else 0)",
      "execution_count": 12,
      "outputs": []
    },
    {
      "metadata": {
        "trusted": true,
        "_uuid": "a9cfd786009ce3079f9a8bcb1458f4d0ba1d56cd"
      },
      "cell_type": "code",
      "source": "final_1 = final[:]",
      "execution_count": 25,
      "outputs": []
    },
    {
      "metadata": {
        "trusted": true,
        "_uuid": "cca07c5decd25c3366a40ba97534f632d2f4ebd6"
      },
      "cell_type": "code",
      "source": "#to remove html tags in the text data\ndef cleanhtml(raw_html):\n    cleanr = re.compile('<.*?>')\n    cleantext = re.sub(cleanr, '', raw_html)\n    return cleantext\n\n#to remove punctuations in the text data\ndef cleanpunc(raw_string):\n    #print(raw_string)\n    newstr = [char for char in raw_string.split() if char not in string.punctuation]\n    #print(newstr)\n    newstr = ' '.join(newstr)\n    return newstr\n\ndef cleantext(raw_string):\n    cleant = re.sub('[^a-zA-Z0-9\\n]', ' ',raw_string)\n    return cleant",
      "execution_count": 26,
      "outputs": []
    },
    {
      "metadata": {
        "trusted": true,
        "_uuid": "300d56590700608c53ea6dd3dd196c43d1a29abb"
      },
      "cell_type": "code",
      "source": "final_1['Text'] = final_1['Text'].apply(cleanhtml)\nfinal_1['Text'] = final_1['Text'].apply(cleanpunc)\nfinal_1['Text'] = final_1['Text'].apply(cleantext)\n\nfinal_data = final_1\n\nX_train, X_test, y_train, y_test = train_test_split(final_data['Text'], final_data['Score_n'],test_size = 0.25, stratify = final_data['Score_n']  )\n\nprint(X_train.shape)\nprint(X_test.shape)\nprint(y_train.shape)\nprint(y_test.shape)\n\ncount_vect = CountVectorizer(ngram_range=(1,2))\nX_train_count = count_vect.fit_transform(X_train.values)\nX_test_count = count_vect.transform(X_test.values)\n\nsc = StandardScaler(with_mean=False)\nX_train_std = sc.fit_transform(X_train_count)\nX_test_std = sc.transform(X_test_count)",
      "execution_count": 27,
      "outputs": [
        {
          "output_type": "stream",
          "text": "(273128,)\n(91043,)\n(273128,)\n(91043,)\n",
          "name": "stdout"
        }
      ]
    },
    {
      "metadata": {
        "trusted": true,
        "_uuid": "6c837a24f99ed0ab4ecbf91d483174c669eb5319"
      },
      "cell_type": "code",
      "source": "start_time = time.clock()\nknn = KNeighborsClassifier()\nknn.fit(X_train_std, y_train)\ny_pred = knn.predict(X_test_std)\nprint(accuracy_score(y_test, y_pred))\nprint(confusion_matrix(y_test, y_pred))\nprint(classification_report(y_test, y_pred))\nprint(\"the time taken for the code execution is: \", (time.clock()-start_time)/60,\"minutes\")",
      "execution_count": 16,
      "outputs": [
        {
          "output_type": "stream",
          "text": "0.8396\n[[   0  401]\n [   0 2099]]\n              precision    recall  f1-score   support\n\n           0       0.00      0.00      0.00       401\n           1       0.84      1.00      0.91      2099\n\n   micro avg       0.84      0.84      0.84      2500\n   macro avg       0.42      0.50      0.46      2500\nweighted avg       0.70      0.84      0.77      2500\n\nthe time taken for the code execution is:  0.04281418333333331 minutes\n",
          "name": "stdout"
        }
      ]
    },
    {
      "metadata": {
        "trusted": true,
        "_uuid": "947371bc99ac7f87ddbccfb58cf577cb0774d3cc"
      },
      "cell_type": "code",
      "source": "start_time = time.clock()\nknn2 = KNeighborsClassifier()\ngs = GridSearchCV(knn2, param_grid={'n_neighbors':[1,3,5,9]},scoring = 'f1_macro', cv=5)\ngs.fit(X_train_std, y_train)\nprint(\"the time taken for the code execution is: \", (time.clock()-start_time)/60,\"minutes\")",
      "execution_count": 17,
      "outputs": [
        {
          "output_type": "stream",
          "text": "the time taken for the code execution is:  1.2614259166666668 minutes\n",
          "name": "stdout"
        }
      ]
    },
    {
      "metadata": {
        "trusted": true,
        "_uuid": "d7f276d71d26a4e84eedbd09f310bdd579192d20"
      },
      "cell_type": "code",
      "source": "gs.best_estimator_",
      "execution_count": 19,
      "outputs": [
        {
          "output_type": "execute_result",
          "execution_count": 19,
          "data": {
            "text/plain": "KNeighborsClassifier(algorithm='auto', leaf_size=30, metric='minkowski',\n           metric_params=None, n_jobs=None, n_neighbors=1, p=2,\n           weights='uniform')"
          },
          "metadata": {}
        }
      ]
    },
    {
      "metadata": {
        "trusted": true,
        "_uuid": "9c3dd99c2e4435e8af7edb651d5a2571b109836d"
      },
      "cell_type": "code",
      "source": "#As per the grid search, the optimum number of neighbors is 1",
      "execution_count": null,
      "outputs": []
    },
    {
      "metadata": {
        "trusted": true,
        "_uuid": "087532378cba8ea579d3f16d91ffe10fbdd7ca25"
      },
      "cell_type": "code",
      "source": "start_time = time.clock()\nknn = KNeighborsClassifier(n_neighbors=1)\nknn.fit(X_train_std, y_train)\ny_pred = knn.predict(X_test_std)\nprint(accuracy_score(y_test, y_pred))\nprint(confusion_matrix(y_test, y_pred))\nprint(classification_report(y_test, y_pred))\nprint(\"the time taken for the code execution is: \", (time.clock()-start_time)/60,\"minutes\")",
      "execution_count": 23,
      "outputs": [
        {
          "output_type": "stream",
          "text": "0.8404\n[[   3  398]\n [   1 2098]]\n              precision    recall  f1-score   support\n\n           0       0.75      0.01      0.01       401\n           1       0.84      1.00      0.91      2099\n\n   micro avg       0.84      0.84      0.84      2500\n   macro avg       0.80      0.50      0.46      2500\nweighted avg       0.83      0.84      0.77      2500\n\nthe time taken for the code execution is:  0.022910699999999905 minutes\n",
          "name": "stdout"
        }
      ]
    },
    {
      "metadata": {
        "trusted": true,
        "_uuid": "7acfefdebde42c8a95191e48bb9eef02d86c43b3"
      },
      "cell_type": "code",
      "source": "#The poor result is due to imbalanced data and less number of training points. SO the entire training data is \n#considered for running the KNN with number of neighbors = 1",
      "execution_count": 24,
      "outputs": []
    },
    {
      "metadata": {
        "trusted": true,
        "_uuid": "1337780dd4f1982d0d1904d7fcf49af54d51dc25"
      },
      "cell_type": "code",
      "source": "start_time = time.clock()\nknn = KNeighborsClassifier(n_neighbors=1)\nknn.fit(X_train_std, y_train)\ny_pred = knn.predict(X_test_std)\nprint(accuracy_score(y_test, y_pred))\nprint(confusion_matrix(y_test, y_pred))\nprint(classification_report(y_test, y_pred))\nprint(\"the time taken for the code execution is: \", (time.clock()-start_time)/60,\"minutes\")",
      "execution_count": 28,
      "outputs": [
        {
          "output_type": "stream",
          "text": "0.8437221972035193\n[[  943 13335]\n [  893 75872]]\n              precision    recall  f1-score   support\n\n           0       0.51      0.07      0.12     14278\n           1       0.85      0.99      0.91     76765\n\n   micro avg       0.84      0.84      0.84     91043\n   macro avg       0.68      0.53      0.52     91043\nweighted avg       0.80      0.84      0.79     91043\n\nthe time taken for the code execution is:  51.151398666666665 minutes\n",
          "name": "stdout"
        }
      ]
    },
    {
      "metadata": {
        "trusted": true,
        "_uuid": "731cc30f6029b47f710dc695702f4907c6b4d526"
      },
      "cell_type": "code",
      "source": "#as all the training points are taken, the time taken for KNN processing increses. Hence grid search was done for \n#less number of training points as it is computationally expensive and time consuming",
      "execution_count": null,
      "outputs": []
    },
    {
      "metadata": {
        "_uuid": "308c04f62e5d148510f20b18e04cde80f6676ca7"
      },
      "cell_type": "markdown",
      "source": "**PART 2: LOGISTIC REGRESSION**[](http://)"
    },
    {
      "metadata": {
        "trusted": true,
        "_uuid": "0a36865fdd4cdef12140abd02c9929cec673f275"
      },
      "cell_type": "code",
      "source": "#Now logistic regression is used as training algorithm and results are compared.",
      "execution_count": null,
      "outputs": []
    },
    {
      "metadata": {
        "trusted": true,
        "_uuid": "dbdf59d8c9bfa14264fd8227580f97e0a096748f"
      },
      "cell_type": "code",
      "source": "#logistic regression with default vaules\nstart_time = time.clock()\nlrmodel = LogisticRegression()\nlrmodel.fit(X_train_std, y_train)\ny_pred = lrmodel.predict(X_test_std)\nprint(accuracy_score(y_test, y_pred))\nprint(confusion_matrix(y_test, y_pred))\nprint(classification_report(y_test, y_pred))\nprint(\"Time taken by code to run is: \", (time.clock()-start_time)/60,'minutes')",
      "execution_count": 29,
      "outputs": [
        {
          "output_type": "stream",
          "text": "0.9244642641389234\n[[ 8948  5330]\n [ 1547 75218]]\n              precision    recall  f1-score   support\n\n           0       0.85      0.63      0.72     14278\n           1       0.93      0.98      0.96     76765\n\n   micro avg       0.92      0.92      0.92     91043\n   macro avg       0.89      0.80      0.84     91043\nweighted avg       0.92      0.92      0.92     91043\n\nTime taken by code to run is:  6.14073965 minutes\n",
          "name": "stdout"
        }
      ]
    },
    {
      "metadata": {
        "trusted": true,
        "_uuid": "62a3e3131f2ec8a5d6d2e8af7457dbae38e377a4"
      },
      "cell_type": "code",
      "source": "#in comparison with KNN, the model has better values of precision, recall and f1-score. This is logistic regression\n#with default values. However, a grid search will be conducted to find the best estimator",
      "execution_count": null,
      "outputs": []
    },
    {
      "metadata": {
        "trusted": true,
        "_uuid": "3ca0e8e6b1be63ecf91de13d7fcb7d314f1bf9c2"
      },
      "cell_type": "code",
      "source": "#run a grid search for finding the best hyper parameter\nstart_time = time.clock()\nlrmodel_2 = LogisticRegression()\ngs = GridSearchCV(lrmodel_2,param_grid={'C':[0.01,0.1,1,10]}, scoring = 'f1_macro',cv=5)\ngs.fit(X_train_std, y_train)\nprint(\"Time taken by code to run is: \", (time.clock()-start_time)/60,'minutes')",
      "execution_count": 31,
      "outputs": [
        {
          "output_type": "stream",
          "text": "Time taken by code to run is:  107.82228396666669 minutes\n",
          "name": "stdout"
        }
      ]
    },
    {
      "metadata": {
        "trusted": true,
        "_uuid": "b74a7e5d4c0f78675a0d27f72de8c7f50d65a327"
      },
      "cell_type": "code",
      "source": "gs.best_estimator_",
      "execution_count": 32,
      "outputs": [
        {
          "output_type": "execute_result",
          "execution_count": 32,
          "data": {
            "text/plain": "LogisticRegression(C=10, class_weight=None, dual=False, fit_intercept=True,\n          intercept_scaling=1, max_iter=100, multi_class='warn',\n          n_jobs=None, penalty='l2', random_state=None, solver='warn',\n          tol=0.0001, verbose=0, warm_start=False)"
          },
          "metadata": {}
        }
      ]
    },
    {
      "metadata": {
        "trusted": true,
        "_uuid": "2a632bcfdbc473df935b30fd40db44d412f6bcba"
      },
      "cell_type": "code",
      "source": "#as per the grid search the best C is 10",
      "execution_count": 33,
      "outputs": []
    },
    {
      "metadata": {
        "trusted": true,
        "_uuid": "90892efee1eb9831c35558b5c54c92a1b46d6688"
      },
      "cell_type": "code",
      "source": "#logistic regression with C=10\nstart_time = time.clock()\nlrmodel = LogisticRegression(C = 10)\nlrmodel.fit(X_train_std, y_train)\ny_pred = lrmodel.predict(X_test_std)\nprint(accuracy_score(y_test, y_pred))\nprint(confusion_matrix(y_test, y_pred))\nprint(classification_report(y_test, y_pred))\nprint(\"Time taken by code to run is: \", (time.clock()-start_time)/60,'minutes')",
      "execution_count": 34,
      "outputs": [
        {
          "output_type": "stream",
          "text": "0.9241457333347979\n[[ 9079  5199]\n [ 1707 75058]]\n              precision    recall  f1-score   support\n\n           0       0.84      0.64      0.72     14278\n           1       0.94      0.98      0.96     76765\n\n   micro avg       0.92      0.92      0.92     91043\n   macro avg       0.89      0.81      0.84     91043\nweighted avg       0.92      0.92      0.92     91043\n\nTime taken by code to run is:  7.059089183333344 minutes\n",
          "name": "stdout"
        }
      ]
    },
    {
      "metadata": {
        "trusted": true,
        "_uuid": "f15405b9d873546a311cf73de987bdd709b693f3"
      },
      "cell_type": "code",
      "source": "features  = count_vect.get_feature_names()\nfeat_weights = list(zip(features, lrmodel.coef_[0]))\nfeat_table = pd.DataFrame(feat_weights, columns = ['features','coefficients'])",
      "execution_count": 51,
      "outputs": []
    },
    {
      "metadata": {
        "trusted": true,
        "_uuid": "be6259b2950052f5a1d09817788999b9192dc16d"
      },
      "cell_type": "code",
      "source": "feat_table = feat_table.sort_values(by = 'coefficients')",
      "execution_count": 52,
      "outputs": []
    },
    {
      "metadata": {
        "trusted": true,
        "_uuid": "d448e3fe0d098d2ddd0e7c264c11a3d950f43882"
      },
      "cell_type": "code",
      "source": "#top 20 positive features\nfeat_table[-25:]",
      "execution_count": 55,
      "outputs": [
        {
          "output_type": "execute_result",
          "execution_count": 55,
          "data": {
            "text/plain": "              features  coefficients\n776504        favorite      0.122884\n944928   great product      0.123270\n2102912   tastes great      0.124255\n1265660       love the      0.126164\n2180466      these are      0.126270\n2180210          these      0.133417\n1265685     love these      0.134770\n166930   are excellent      0.136647\n1115935             is      0.141674\n1125091         is the      0.144654\n1264418        love it      0.159946\n1267918          loves      0.164151\n2344346      very good      0.165598\n741167       excellent      0.167997\n595195       delicious      0.189689\n1120137       is great      0.192698\n2196289           this      0.199435\n2234786       to sweet      0.214161\n2199782        this is      0.217085\n267945            best      0.221639\n2142445       the best      0.227434\n1265698      love this      0.233397\n922004            good      0.250796\n1263193           love      0.288800\n942368           great      0.370994",
            "text/html": "<div>\n<style scoped>\n    .dataframe tbody tr th:only-of-type {\n        vertical-align: middle;\n    }\n\n    .dataframe tbody tr th {\n        vertical-align: top;\n    }\n\n    .dataframe thead th {\n        text-align: right;\n    }\n</style>\n<table border=\"1\" class=\"dataframe\">\n  <thead>\n    <tr style=\"text-align: right;\">\n      <th></th>\n      <th>features</th>\n      <th>coefficients</th>\n    </tr>\n  </thead>\n  <tbody>\n    <tr>\n      <th>776504</th>\n      <td>favorite</td>\n      <td>0.122884</td>\n    </tr>\n    <tr>\n      <th>944928</th>\n      <td>great product</td>\n      <td>0.123270</td>\n    </tr>\n    <tr>\n      <th>2102912</th>\n      <td>tastes great</td>\n      <td>0.124255</td>\n    </tr>\n    <tr>\n      <th>1265660</th>\n      <td>love the</td>\n      <td>0.126164</td>\n    </tr>\n    <tr>\n      <th>2180466</th>\n      <td>these are</td>\n      <td>0.126270</td>\n    </tr>\n    <tr>\n      <th>2180210</th>\n      <td>these</td>\n      <td>0.133417</td>\n    </tr>\n    <tr>\n      <th>1265685</th>\n      <td>love these</td>\n      <td>0.134770</td>\n    </tr>\n    <tr>\n      <th>166930</th>\n      <td>are excellent</td>\n      <td>0.136647</td>\n    </tr>\n    <tr>\n      <th>1115935</th>\n      <td>is</td>\n      <td>0.141674</td>\n    </tr>\n    <tr>\n      <th>1125091</th>\n      <td>is the</td>\n      <td>0.144654</td>\n    </tr>\n    <tr>\n      <th>1264418</th>\n      <td>love it</td>\n      <td>0.159946</td>\n    </tr>\n    <tr>\n      <th>1267918</th>\n      <td>loves</td>\n      <td>0.164151</td>\n    </tr>\n    <tr>\n      <th>2344346</th>\n      <td>very good</td>\n      <td>0.165598</td>\n    </tr>\n    <tr>\n      <th>741167</th>\n      <td>excellent</td>\n      <td>0.167997</td>\n    </tr>\n    <tr>\n      <th>595195</th>\n      <td>delicious</td>\n      <td>0.189689</td>\n    </tr>\n    <tr>\n      <th>1120137</th>\n      <td>is great</td>\n      <td>0.192698</td>\n    </tr>\n    <tr>\n      <th>2196289</th>\n      <td>this</td>\n      <td>0.199435</td>\n    </tr>\n    <tr>\n      <th>2234786</th>\n      <td>to sweet</td>\n      <td>0.214161</td>\n    </tr>\n    <tr>\n      <th>2199782</th>\n      <td>this is</td>\n      <td>0.217085</td>\n    </tr>\n    <tr>\n      <th>267945</th>\n      <td>best</td>\n      <td>0.221639</td>\n    </tr>\n    <tr>\n      <th>2142445</th>\n      <td>the best</td>\n      <td>0.227434</td>\n    </tr>\n    <tr>\n      <th>1265698</th>\n      <td>love this</td>\n      <td>0.233397</td>\n    </tr>\n    <tr>\n      <th>922004</th>\n      <td>good</td>\n      <td>0.250796</td>\n    </tr>\n    <tr>\n      <th>1263193</th>\n      <td>love</td>\n      <td>0.288800</td>\n    </tr>\n    <tr>\n      <th>942368</th>\n      <td>great</td>\n      <td>0.370994</td>\n    </tr>\n  </tbody>\n</table>\n</div>"
          },
          "metadata": {}
        }
      ]
    },
    {
      "metadata": {
        "trusted": true,
        "_uuid": "9be1e146614510b887c4088e2ee8bd4616fb9930"
      },
      "cell_type": "code",
      "source": "#top 20 negative features\nfeat_table[0:20]",
      "execution_count": 56,
      "outputs": [
        {
          "output_type": "execute_result",
          "execution_count": 56,
          "data": {
            "text/plain": "                  features  coefficients\n1451407          not worth     -0.286853\n1445625            not buy     -0.158046\n2343942  very disappointed     -0.147343\n1449602      not recommend     -0.145028\n2454570          would not     -0.144900\n2452198              worst     -0.120319\n192029              at all     -0.119305\n2345880          very weak     -0.115304\n1447452           not good     -0.114510\n2164650          the worst     -0.114309\n1444836                not     -0.111677\n629557        disappointed     -0.110237\n1449462       not purchase     -0.099285\n1041302           horrible     -0.098841\n615233             did not     -0.098767\n1448876          not order     -0.097283\n2423225           will not     -0.096505\n2120451           terrible     -0.096436\n2442303            won buy     -0.093038\n813887         flavor nice     -0.089353",
            "text/html": "<div>\n<style scoped>\n    .dataframe tbody tr th:only-of-type {\n        vertical-align: middle;\n    }\n\n    .dataframe tbody tr th {\n        vertical-align: top;\n    }\n\n    .dataframe thead th {\n        text-align: right;\n    }\n</style>\n<table border=\"1\" class=\"dataframe\">\n  <thead>\n    <tr style=\"text-align: right;\">\n      <th></th>\n      <th>features</th>\n      <th>coefficients</th>\n    </tr>\n  </thead>\n  <tbody>\n    <tr>\n      <th>1451407</th>\n      <td>not worth</td>\n      <td>-0.286853</td>\n    </tr>\n    <tr>\n      <th>1445625</th>\n      <td>not buy</td>\n      <td>-0.158046</td>\n    </tr>\n    <tr>\n      <th>2343942</th>\n      <td>very disappointed</td>\n      <td>-0.147343</td>\n    </tr>\n    <tr>\n      <th>1449602</th>\n      <td>not recommend</td>\n      <td>-0.145028</td>\n    </tr>\n    <tr>\n      <th>2454570</th>\n      <td>would not</td>\n      <td>-0.144900</td>\n    </tr>\n    <tr>\n      <th>2452198</th>\n      <td>worst</td>\n      <td>-0.120319</td>\n    </tr>\n    <tr>\n      <th>192029</th>\n      <td>at all</td>\n      <td>-0.119305</td>\n    </tr>\n    <tr>\n      <th>2345880</th>\n      <td>very weak</td>\n      <td>-0.115304</td>\n    </tr>\n    <tr>\n      <th>1447452</th>\n      <td>not good</td>\n      <td>-0.114510</td>\n    </tr>\n    <tr>\n      <th>2164650</th>\n      <td>the worst</td>\n      <td>-0.114309</td>\n    </tr>\n    <tr>\n      <th>1444836</th>\n      <td>not</td>\n      <td>-0.111677</td>\n    </tr>\n    <tr>\n      <th>629557</th>\n      <td>disappointed</td>\n      <td>-0.110237</td>\n    </tr>\n    <tr>\n      <th>1449462</th>\n      <td>not purchase</td>\n      <td>-0.099285</td>\n    </tr>\n    <tr>\n      <th>1041302</th>\n      <td>horrible</td>\n      <td>-0.098841</td>\n    </tr>\n    <tr>\n      <th>615233</th>\n      <td>did not</td>\n      <td>-0.098767</td>\n    </tr>\n    <tr>\n      <th>1448876</th>\n      <td>not order</td>\n      <td>-0.097283</td>\n    </tr>\n    <tr>\n      <th>2423225</th>\n      <td>will not</td>\n      <td>-0.096505</td>\n    </tr>\n    <tr>\n      <th>2120451</th>\n      <td>terrible</td>\n      <td>-0.096436</td>\n    </tr>\n    <tr>\n      <th>2442303</th>\n      <td>won buy</td>\n      <td>-0.093038</td>\n    </tr>\n    <tr>\n      <th>813887</th>\n      <td>flavor nice</td>\n      <td>-0.089353</td>\n    </tr>\n  </tbody>\n</table>\n</div>"
          },
          "metadata": {}
        }
      ]
    },
    {
      "metadata": {
        "trusted": true,
        "_uuid": "005f6dfd502fda1700918f86644728bd34d3cba9"
      },
      "cell_type": "code",
      "source": "",
      "execution_count": null,
      "outputs": []
    },
    {
      "metadata": {
        "_uuid": "c17656254372fc82cc71320457ee7c7c259bb92e"
      },
      "cell_type": "markdown",
      "source": "**Part 3: Naive bayes**"
    },
    {
      "metadata": {
        "trusted": true,
        "_uuid": "01fda1b76f4c31a05eb1a1669a4513a93aba3817"
      },
      "cell_type": "code",
      "source": "#bernoulli naive bayes is applied for the training data",
      "execution_count": null,
      "outputs": []
    },
    {
      "metadata": {
        "trusted": true,
        "_uuid": "ba43f8a2f6a8e1fb2082c159b5792e772983bc16"
      },
      "cell_type": "code",
      "source": "start_time = time.clock()\nber_nb = BernoulliNB()\nber_nb.fit(X_train_std, y_train)\ny_pred = ber_nb.predict(X_test_std)\nprint(accuracy_score(y_test, y_pred))\nprint(confusion_matrix(y_test, y_pred))\nprint(classification_report(y_test, y_pred))\nprint(\"Time taken by code to run is: \", (time.clock()-start_time)/60,'minutes')\n",
      "execution_count": 41,
      "outputs": [
        {
          "output_type": "stream",
          "text": "0.8622519029469591\n[[ 3229 11049]\n [ 1492 75273]]\n              precision    recall  f1-score   support\n\n           0       0.68      0.23      0.34     14278\n           1       0.87      0.98      0.92     76765\n\n   micro avg       0.86      0.86      0.86     91043\n   macro avg       0.78      0.60      0.63     91043\nweighted avg       0.84      0.86      0.83     91043\n\nTime taken by code to run is:  0.03509916666668384 minutes\n",
          "name": "stdout"
        }
      ]
    },
    {
      "metadata": {
        "trusted": true,
        "_uuid": "eeb76c6c8f2029eaefcdfff4072917de72e778fa"
      },
      "cell_type": "code",
      "source": "#run a grid search for finding the best hyper parameter\nstart_time = time.clock()\nber_nb1 = BernoulliNB()\ngs = GridSearchCV(ber_nb1,param_grid={'alpha':[0.01,0.1,1,10]}, scoring = 'f1_macro',cv=5)\ngs.fit(X_train_std, y_train)\nprint(\"Time taken by code to run is: \", (time.clock()-start_time)/60,'minutes')",
      "execution_count": 36,
      "outputs": [
        {
          "output_type": "stream",
          "text": "Time taken by code to run is:  1.7005239833333083 minutes\n",
          "name": "stdout"
        }
      ]
    },
    {
      "metadata": {
        "trusted": true,
        "_uuid": "e07c44c7f4d18bd34f5cc187daec026ed7fe3f9f"
      },
      "cell_type": "code",
      "source": "gs.best_estimator_",
      "execution_count": 37,
      "outputs": [
        {
          "output_type": "execute_result",
          "execution_count": 37,
          "data": {
            "text/plain": "BernoulliNB(alpha=0.01, binarize=0.0, class_prior=None, fit_prior=True)"
          },
          "metadata": {}
        }
      ]
    },
    {
      "metadata": {
        "trusted": true,
        "_uuid": "487f3228ec1f2b8cf076442b8aa26e057e15149d"
      },
      "cell_type": "code",
      "source": "#naive bayes with alpha = 0.01\nstart_time = time.clock()\nber_nb = BernoulliNB(alpha = 0.01)\nber_nb.fit(X_train_std, y_train)\ny_pred = ber_nb.predict(X_test_std)\nprint(accuracy_score(y_test, y_pred))\nprint(confusion_matrix(y_test, y_pred))\nprint(classification_report(y_test, y_pred))\nprint(\"Time taken by code to run is: \", (time.clock()-start_time)/60,'minutes')",
      "execution_count": 40,
      "outputs": [
        {
          "output_type": "stream",
          "text": "0.9237063805015212\n[[ 8883  5395]\n [ 1551 75214]]\n              precision    recall  f1-score   support\n\n           0       0.85      0.62      0.72     14278\n           1       0.93      0.98      0.96     76765\n\n   micro avg       0.92      0.92      0.92     91043\n   macro avg       0.89      0.80      0.84     91043\nweighted avg       0.92      0.92      0.92     91043\n\nTime taken by code to run is:  0.034288433333343464 minutes\n",
          "name": "stdout"
        }
      ]
    },
    {
      "metadata": {
        "trusted": true,
        "_uuid": "82ac51792948bc72e59913ab4decb280115f3882"
      },
      "cell_type": "code",
      "source": "features  = count_vect.get_feature_names()\nfeat_weights = list(zip(features, ber_nb.coef_[0]))\nfeat_table = pd.DataFrame(feat_weights, columns = ['features','coefficients'])\nfeat_table = feat_table.sort_values(by = 'coefficients')\n#top 20 positive features\nprint(feat_table[-25:])\n#top 20 negative features\nprint(feat_table[0:20])\n",
      "execution_count": 58,
      "outputs": [
        {
          "output_type": "stream",
          "text": "        features  coefficients\n942368     great     -1.296605\n922004      good     -1.283715\n179855        as     -1.274307\n1224885     like     -1.257904\n2365697      was     -1.252602\n2185624     they     -1.238195\n1955065       so     -1.168489\n1444836      not     -1.130147\n1503878       on     -1.122446\n164826       are     -1.120527\n2470562      you     -1.087420\n988699      have     -0.947675\n350197       but     -0.932092\n2131204     that     -0.929570\n2428685     with     -0.923221\n1393900       my     -0.734621\n1072457       in     -0.662278\n835717       for     -0.615422\n1473459       of     -0.549679\n1115935       is     -0.480706\n2196289     this     -0.454761\n1129784       it     -0.416112\n2224412       to     -0.382893\n122412       and     -0.211613\n2140077      the     -0.200902\n                   features  coefficients\n1091600     industrial kind    -12.347129\n2013879   starkist followed    -12.347129\n838850        for execution    -12.347129\n2013887        starkist one    -12.347129\n2013888       starkist ones    -12.347129\n362418                by 2g    -12.347129\n362417                by 29    -12.347129\n362415               by 250    -12.347129\n362412              by 2381    -12.347129\n2013897        starkist try    -12.347129\n838861        for expecting    -12.347129\n2013878       starkist even    -12.347129\n2013901  starkist yellowfin    -12.347129\n362406              by 2000    -12.347129\n362405               by 200    -12.347129\n838863       for expediting    -12.347129\n838864        for expelling    -12.347129\n362401              by 1956    -12.347129\n362399                by 19    -12.347129\n1415714      need sonething    -12.347129\n",
          "name": "stdout"
        }
      ]
    },
    {
      "metadata": {
        "_uuid": "e32ccc503ba166b6f4d9d272092a1b17823c5efb"
      },
      "cell_type": "markdown",
      "source": "**Logistic regression using sgd classifier**"
    },
    {
      "metadata": {
        "trusted": true,
        "_uuid": "83036407087a0ad9826ffb8274c9bdd769fc78be"
      },
      "cell_type": "code",
      "source": "start_time = time.clock()\nsgdcl = SGDClassifier(loss = 'log')\nsgdcl.fit(X_train_std, y_train)\ny_pred = sgdcl.predict(X_test_std)\nprint(accuracy_score(y_test, y_pred))\nprint(confusion_matrix(y_test, y_pred))\nprint(classification_report(y_test, y_pred))\nprint(\"Time taken by code to run is: \", (time.clock()-start_time)/60,'minutes')",
      "execution_count": 59,
      "outputs": [
        {
          "output_type": "stream",
          "text": "0.8831650978109246\n[[ 9793  4485]\n [ 6152 70613]]\n              precision    recall  f1-score   support\n\n           0       0.61      0.69      0.65     14278\n           1       0.94      0.92      0.93     76765\n\n   micro avg       0.88      0.88      0.88     91043\n   macro avg       0.78      0.80      0.79     91043\nweighted avg       0.89      0.88      0.89     91043\n\nTime taken by code to run is:  0.06232443333331806 minutes\n",
          "name": "stdout"
        }
      ]
    },
    {
      "metadata": {
        "trusted": true,
        "_uuid": "bc6e2c106dbfa83eefc563d45b9790a3f5ce2715"
      },
      "cell_type": "code",
      "source": "#the logisitc regression using sgd fares a slightly better recall for class '0'. However, f1 score is reduced",
      "execution_count": 60,
      "outputs": []
    },
    {
      "metadata": {
        "_uuid": "ce5bdabe695513af5efbe6e66561b783c450e61c"
      },
      "cell_type": "markdown",
      "source": "**SVM using SGD classifier**"
    },
    {
      "metadata": {
        "trusted": true,
        "_uuid": "297cca35b7173e95e1e21e4b5b5e2d1c3a94620f"
      },
      "cell_type": "code",
      "source": "start_time = time.clock()\nsgdcl = SGDClassifier(loss = 'hinge')\nsgdcl.fit(X_train_std, y_train)\ny_pred = sgdcl.predict(X_test_std)\nprint(accuracy_score(y_test, y_pred))\nprint(confusion_matrix(y_test, y_pred))\nprint(classification_report(y_test, y_pred))\nprint(\"Time taken by code to run is: \", (time.clock()-start_time)/60,'minutes')",
      "execution_count": 61,
      "outputs": [
        {
          "output_type": "stream",
          "text": "0.8825609876651692\n[[ 9786  4492]\n [ 6200 70565]]\n              precision    recall  f1-score   support\n\n           0       0.61      0.69      0.65     14278\n           1       0.94      0.92      0.93     76765\n\n   micro avg       0.88      0.88      0.88     91043\n   macro avg       0.78      0.80      0.79     91043\nweighted avg       0.89      0.88      0.89     91043\n\nTime taken by code to run is:  0.047794599999997446 minutes\n",
          "name": "stdout"
        }
      ]
    },
    {
      "metadata": {
        "trusted": true,
        "_uuid": "1952077b65d04e03f7e6489424ce5e2a9d381ac2"
      },
      "cell_type": "code",
      "source": "svm = SVC()\n",
      "execution_count": null,
      "outputs": []
    }
  ],
  "metadata": {
    "kernelspec": {
      "display_name": "Python 3",
      "language": "python",
      "name": "python3"
    },
    "language_info": {
      "name": "python",
      "version": "3.6.6",
      "mimetype": "text/x-python",
      "codemirror_mode": {
        "name": "ipython",
        "version": 3
      },
      "pygments_lexer": "ipython3",
      "nbconvert_exporter": "python",
      "file_extension": ".py"
    }
  },
  "nbformat": 4,
  "nbformat_minor": 1
}