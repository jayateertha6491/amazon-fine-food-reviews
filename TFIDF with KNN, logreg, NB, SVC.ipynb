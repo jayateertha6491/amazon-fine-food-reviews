{
  "cells": [
    {
      "metadata": {
        "_uuid": "8f2839f25d086af736a60e9eeb907d3b93b6e0e5",
        "_cell_guid": "b1076dfc-b9ad-4769-8c92-a6c4dae69d19",
        "trusted": true
      },
      "cell_type": "code",
      "source": "# This Python 3 environment comes with many helpful analytics libraries installed\n# It is defined by the kaggle/python docker image: https://github.com/kaggle/docker-python\n# For example, here's several helpful packages to load in \n\nimport numpy as np # linear algebra\nimport pandas as pd # data processing, CSV file I/O (e.g. pd.read_csv)\n\n# Input data files are available in the \"../input/\" directory.\n# For example, running this (by clicking run or pressing Shift+Enter) will list the files in the input directory\n\nimport os\nprint(os.listdir(\"../input\"))\n\n# Any results you write to the current directory are saved as output.",
      "execution_count": 44,
      "outputs": [
        {
          "output_type": "stream",
          "text": "['database.sqlite', 'hashes.txt', 'Reviews.csv']\n",
          "name": "stdout"
        }
      ]
    },
    {
      "metadata": {
        "_cell_guid": "79c7e3d0-c299-4dcb-8224-4455121ee9b0",
        "_uuid": "d629ff2d2480ee46fbb7e2d37f6b5fab8052498a",
        "trusted": true
      },
      "cell_type": "code",
      "source": "import matplotlib.pyplot as plt\nimport re\nimport string\nfrom sklearn.model_selection import train_test_split\nfrom sklearn.feature_extraction.text import TfidfVectorizer\nfrom sklearn.preprocessing import StandardScaler\nfrom sklearn.neighbors import KNeighborsClassifier\nfrom sklearn.linear_model import LogisticRegression\nfrom sklearn.linear_model import SGDClassifier\nfrom sklearn.naive_bayes import BernoulliNB\nfrom sklearn.svm import SVC\nfrom sklearn.tree import DecisionTreeClassifier\nfrom sklearn.metrics import accuracy_score, confusion_matrix, classification_report\nfrom sklearn.model_selection import cross_val_score",
      "execution_count": 45,
      "outputs": []
    },
    {
      "metadata": {
        "trusted": true,
        "_uuid": "3b82af403ca6580d8a408c3ccc8d3a4137b06ef3"
      },
      "cell_type": "code",
      "source": "data = pd.read_csv('../input/Reviews.csv')",
      "execution_count": 46,
      "outputs": []
    },
    {
      "metadata": {
        "trusted": true,
        "_uuid": "62590b5c8ae89928fbab469a966421aa28a30a95"
      },
      "cell_type": "code",
      "source": "data.head(5)",
      "execution_count": 47,
      "outputs": [
        {
          "output_type": "execute_result",
          "execution_count": 47,
          "data": {
            "text/plain": "   Id                        ...                                                                       Text\n0   1                        ...                          I have bought several of the Vitality canned d...\n1   2                        ...                          Product arrived labeled as Jumbo Salted Peanut...\n2   3                        ...                          This is a confection that has been around a fe...\n3   4                        ...                          If you are looking for the secret ingredient i...\n4   5                        ...                          Great taffy at a great price.  There was a wid...\n\n[5 rows x 10 columns]",
            "text/html": "<div>\n<style scoped>\n    .dataframe tbody tr th:only-of-type {\n        vertical-align: middle;\n    }\n\n    .dataframe tbody tr th {\n        vertical-align: top;\n    }\n\n    .dataframe thead th {\n        text-align: right;\n    }\n</style>\n<table border=\"1\" class=\"dataframe\">\n  <thead>\n    <tr style=\"text-align: right;\">\n      <th></th>\n      <th>Id</th>\n      <th>ProductId</th>\n      <th>UserId</th>\n      <th>ProfileName</th>\n      <th>HelpfulnessNumerator</th>\n      <th>HelpfulnessDenominator</th>\n      <th>Score</th>\n      <th>Time</th>\n      <th>Summary</th>\n      <th>Text</th>\n    </tr>\n  </thead>\n  <tbody>\n    <tr>\n      <th>0</th>\n      <td>1</td>\n      <td>B001E4KFG0</td>\n      <td>A3SGXH7AUHU8GW</td>\n      <td>delmartian</td>\n      <td>1</td>\n      <td>1</td>\n      <td>5</td>\n      <td>1303862400</td>\n      <td>Good Quality Dog Food</td>\n      <td>I have bought several of the Vitality canned d...</td>\n    </tr>\n    <tr>\n      <th>1</th>\n      <td>2</td>\n      <td>B00813GRG4</td>\n      <td>A1D87F6ZCVE5NK</td>\n      <td>dll pa</td>\n      <td>0</td>\n      <td>0</td>\n      <td>1</td>\n      <td>1346976000</td>\n      <td>Not as Advertised</td>\n      <td>Product arrived labeled as Jumbo Salted Peanut...</td>\n    </tr>\n    <tr>\n      <th>2</th>\n      <td>3</td>\n      <td>B000LQOCH0</td>\n      <td>ABXLMWJIXXAIN</td>\n      <td>Natalia Corres \"Natalia Corres\"</td>\n      <td>1</td>\n      <td>1</td>\n      <td>4</td>\n      <td>1219017600</td>\n      <td>\"Delight\" says it all</td>\n      <td>This is a confection that has been around a fe...</td>\n    </tr>\n    <tr>\n      <th>3</th>\n      <td>4</td>\n      <td>B000UA0QIQ</td>\n      <td>A395BORC6FGVXV</td>\n      <td>Karl</td>\n      <td>3</td>\n      <td>3</td>\n      <td>2</td>\n      <td>1307923200</td>\n      <td>Cough Medicine</td>\n      <td>If you are looking for the secret ingredient i...</td>\n    </tr>\n    <tr>\n      <th>4</th>\n      <td>5</td>\n      <td>B006K2ZZ7K</td>\n      <td>A1UQRSCLF8GW1T</td>\n      <td>Michael D. Bigham \"M. Wassir\"</td>\n      <td>0</td>\n      <td>0</td>\n      <td>5</td>\n      <td>1350777600</td>\n      <td>Great taffy</td>\n      <td>Great taffy at a great price.  There was a wid...</td>\n    </tr>\n  </tbody>\n</table>\n</div>"
          },
          "metadata": {}
        }
      ]
    },
    {
      "metadata": {
        "trusted": true,
        "_uuid": "f66ca5a9bbcec38b772acaf233b22895220c3762"
      },
      "cell_type": "code",
      "source": "data.shape",
      "execution_count": 48,
      "outputs": [
        {
          "output_type": "execute_result",
          "execution_count": 48,
          "data": {
            "text/plain": "(568454, 10)"
          },
          "metadata": {}
        }
      ]
    },
    {
      "metadata": {
        "trusted": true,
        "_uuid": "a3667098cb248b17d3ec1225dda10b8e2f1f774e"
      },
      "cell_type": "code",
      "source": "#to remove the datapoints which are neither positive nor negative\ndata = data[data['Score']!=3]",
      "execution_count": 49,
      "outputs": []
    },
    {
      "metadata": {
        "trusted": true,
        "_uuid": "34fa58f19aa8a2680a03072e5d5e4c8d2af9a34a"
      },
      "cell_type": "code",
      "source": "data.shape",
      "execution_count": 50,
      "outputs": [
        {
          "output_type": "execute_result",
          "execution_count": 50,
          "data": {
            "text/plain": "(525814, 10)"
          },
          "metadata": {}
        }
      ]
    },
    {
      "metadata": {
        "trusted": true,
        "_uuid": "ef98d994f4c8891c91476e6c449078d3fe0f8583"
      },
      "cell_type": "code",
      "source": "#for score>3, it is 'positive' review and score<3 is 'negative' review\ndef partition(x):\n    if x>3:\n        return 'positive'\n    else:\n        return 'negative'",
      "execution_count": 51,
      "outputs": []
    },
    {
      "metadata": {
        "trusted": true,
        "_uuid": "1e2544e9e01a26545549c3e005bca66ed721f694"
      },
      "cell_type": "code",
      "source": "data['Score'] = data['Score'].apply(partition)",
      "execution_count": 52,
      "outputs": []
    },
    {
      "metadata": {
        "trusted": true,
        "_uuid": "460652408f63d11ba0a020ff2cecc61ab3cd21b2"
      },
      "cell_type": "code",
      "source": "sorted_data = data.sort_values(by='ProductId', axis=0)",
      "execution_count": 53,
      "outputs": []
    },
    {
      "metadata": {
        "trusted": true,
        "_uuid": "0957261d589128ef488003e3ebe8dd3790773226"
      },
      "cell_type": "code",
      "source": "final = sorted_data.drop_duplicates(subset={\"UserId\",\"Time\",\"Text\",\"ProfileName\"})\nfinal['Id'].size/sorted_data['Id'].size",
      "execution_count": 54,
      "outputs": [
        {
          "output_type": "execute_result",
          "execution_count": 54,
          "data": {
            "text/plain": "0.6925890143662968"
          },
          "metadata": {}
        }
      ]
    },
    {
      "metadata": {
        "trusted": true,
        "_uuid": "da4b50a160bb7066db0050b6a9340b17268ec74b"
      },
      "cell_type": "code",
      "source": "final = final[final.HelpfulnessNumerator<=final.HelpfulnessDenominator]",
      "execution_count": 55,
      "outputs": []
    },
    {
      "metadata": {
        "trusted": true,
        "_uuid": "b733e96e57c4c79c8bffc4d2864f5839d3f36cc3"
      },
      "cell_type": "code",
      "source": "final['Score_n'] = final['Score'].apply(lambda x:1 if x == 'positive' else 0)",
      "execution_count": 56,
      "outputs": []
    },
    {
      "metadata": {
        "trusted": true,
        "_uuid": "a8a110ef916c5054374d888399480dad210ceda6"
      },
      "cell_type": "code",
      "source": "final_1 = final[:50000]",
      "execution_count": 57,
      "outputs": []
    },
    {
      "metadata": {
        "trusted": true,
        "_uuid": "fc3dae8c2a4d196a29c9d83143db5051a628827a"
      },
      "cell_type": "code",
      "source": "#remove the html tags and punctuations in the data\ndef cleanhtml(raw_html):\n    cleanr = re.compile('<.*?>')\n    cleantext = re.sub(cleanr, '', raw_html)\n    return cleantext\n\ndef cleanpunc(raw_string):\n    #print(raw_string)\n    newstr = [char for char in raw_string.split() if char not in string.punctuation]\n    #print(newstr)\n    newstr = ' '.join(newstr)\n    return newstr",
      "execution_count": 58,
      "outputs": []
    },
    {
      "metadata": {
        "trusted": true,
        "_uuid": "4da3de44ad066be7f8749cd0246f3ae493780676"
      },
      "cell_type": "code",
      "source": "final_1['Text'] = final_1['Text'].apply(cleanhtml)",
      "execution_count": 59,
      "outputs": [
        {
          "output_type": "stream",
          "text": "/opt/conda/lib/python3.6/site-packages/ipykernel_launcher.py:1: SettingWithCopyWarning: \nA value is trying to be set on a copy of a slice from a DataFrame.\nTry using .loc[row_indexer,col_indexer] = value instead\n\nSee the caveats in the documentation: http://pandas.pydata.org/pandas-docs/stable/indexing.html#indexing-view-versus-copy\n  \"\"\"Entry point for launching an IPython kernel.\n",
          "name": "stderr"
        }
      ]
    },
    {
      "metadata": {
        "trusted": true,
        "_uuid": "fc905331cc94d3e2d902557b15e7b624e2461b80"
      },
      "cell_type": "code",
      "source": "final_1['Text'] = final_1['Text'].apply(cleanpunc)",
      "execution_count": 60,
      "outputs": [
        {
          "output_type": "stream",
          "text": "/opt/conda/lib/python3.6/site-packages/ipykernel_launcher.py:1: SettingWithCopyWarning: \nA value is trying to be set on a copy of a slice from a DataFrame.\nTry using .loc[row_indexer,col_indexer] = value instead\n\nSee the caveats in the documentation: http://pandas.pydata.org/pandas-docs/stable/indexing.html#indexing-view-versus-copy\n  \"\"\"Entry point for launching an IPython kernel.\n",
          "name": "stderr"
        }
      ]
    },
    {
      "metadata": {
        "trusted": true,
        "_uuid": "20c5e6b19d53af9a10c4c1d1e5880457a8a56104"
      },
      "cell_type": "code",
      "source": "final_data = final_1",
      "execution_count": 61,
      "outputs": []
    },
    {
      "metadata": {
        "trusted": true,
        "_uuid": "310ae8f5a98e967dc717abd0d12acf78aaaa9b40"
      },
      "cell_type": "code",
      "source": "X_train, X_test, y_train, y_test = train_test_split(final_data['Text'], final_data['Score_n'],test_size = 0.25, stratify = final_data['Score_n']  )",
      "execution_count": 62,
      "outputs": []
    },
    {
      "metadata": {
        "trusted": true,
        "_uuid": "7084cffd6fd0041425ee7ffe703854c685a9fd11"
      },
      "cell_type": "code",
      "source": "print(X_train.shape)\nprint(X_test.shape)\nprint(y_train.shape)\nprint(y_test.shape)",
      "execution_count": 63,
      "outputs": [
        {
          "output_type": "stream",
          "text": "(37500,)\n(12500,)\n(37500,)\n(12500,)\n",
          "name": "stdout"
        }
      ]
    },
    {
      "metadata": {
        "trusted": true,
        "_uuid": "0de512b5f23c2fc30444fe387ff84b81f1f64163"
      },
      "cell_type": "code",
      "source": "#create an object of tfidf using tfidfvectorizer bigram range\ntfidf_vect = TfidfVectorizer(ngram_range=(1,2))",
      "execution_count": 64,
      "outputs": []
    },
    {
      "metadata": {
        "trusted": true,
        "_uuid": "ead61bf8e9a41f64bf070ec174f6bc5fa6bcebbe"
      },
      "cell_type": "code",
      "source": "final_bigram_train = tfidf_vect.fit_transform(X_train.values)\nfinal_bigram_test = tfidf_vect.transform(X_test.values)",
      "execution_count": 65,
      "outputs": []
    },
    {
      "metadata": {
        "trusted": true,
        "_uuid": "5ca368d41b62b287b21cff2c570e29fe9d2b9d97"
      },
      "cell_type": "code",
      "source": "#standardize the bigram trian and test data\n#create an object of standardscalar\nsc = StandardScaler(with_mean= False)",
      "execution_count": 66,
      "outputs": []
    },
    {
      "metadata": {
        "trusted": true,
        "_uuid": "66d13894a8b4f7ea4b982435b4f24624512ce986"
      },
      "cell_type": "code",
      "source": "X_train_standardized = sc.fit_transform(final_bigram_train)\nX_test_standardized = sc.transform(final_bigram_test)",
      "execution_count": 67,
      "outputs": []
    },
    {
      "metadata": {
        "trusted": true,
        "_uuid": "8006faf15b8fa0d371298b9afd927e79f0e957c7"
      },
      "cell_type": "code",
      "source": "#create a simple model using default values of knn\nknn = KNeighborsClassifier()\nknn.fit(X_train_standardized, y_train)\ny_pred = knn.predict(X_test_standardized)\nprint(accuracy_score(y_test, y_pred))\nprint(confusion_matrix(y_test, y_pred))\nprint(classification_report(y_test, y_pred))",
      "execution_count": 68,
      "outputs": [
        {
          "output_type": "stream",
          "text": "0.85112\n[[    4  1861]\n [    0 10635]]\n              precision    recall  f1-score   support\n\n           0       1.00      0.00      0.00      1865\n           1       0.85      1.00      0.92     10635\n\n   micro avg       0.85      0.85      0.85     12500\n   macro avg       0.93      0.50      0.46     12500\nweighted avg       0.87      0.85      0.78     12500\n\n",
          "name": "stdout"
        }
      ]
    },
    {
      "metadata": {
        "_uuid": "a754afbf052afd82e38291b8d5d3144c9fc7f736"
      },
      "cell_type": "markdown",
      "source": "The model is a huge overfit since all the test points are classifed as class 1. The data is imbalanced"
    },
    {
      "metadata": {
        "trusted": true,
        "_uuid": "2849a02eabb223d9bafd3b35a4cc6f74d901db62"
      },
      "cell_type": "code",
      "source": "#run another simple model by giving distance as weight parameter to handle imbalanced data\nknn = KNeighborsClassifier(weights='distance')\nknn.fit(X_train_standardized, y_train)\ny_pred = knn.predict(X_test_standardized)\nprint(accuracy_score(y_test, y_pred))\nprint(confusion_matrix(y_test, y_pred))\nprint(classification_report(y_test, y_pred))",
      "execution_count": 69,
      "outputs": [
        {
          "output_type": "stream",
          "text": "0.85184\n[[   13  1852]\n [    0 10635]]\n              precision    recall  f1-score   support\n\n           0       1.00      0.01      0.01      1865\n           1       0.85      1.00      0.92     10635\n\n   micro avg       0.85      0.85      0.85     12500\n   macro avg       0.93      0.50      0.47     12500\nweighted avg       0.87      0.85      0.78     12500\n\n",
          "name": "stdout"
        }
      ]
    },
    {
      "metadata": {
        "trusted": true,
        "_uuid": "4dd3fc6516b7e06710c98505e44ec4e5e0db0547"
      },
      "cell_type": "code",
      "source": "#the result is slightly better as some test points are classifed as class 0",
      "execution_count": 70,
      "outputs": []
    },
    {
      "metadata": {
        "trusted": true,
        "_uuid": "67bd6bd09ee2b3c86631a6d33f0a941a57b62e3c"
      },
      "cell_type": "code",
      "source": "# a cross validation score is run to find the best hyperparamter K using f1_macro as scoring ",
      "execution_count": 71,
      "outputs": []
    },
    {
      "metadata": {
        "trusted": true,
        "_uuid": "c91317faa10db45ce7f45a8dd7376b3d434d1a34"
      },
      "cell_type": "code",
      "source": "k = [5,11,25, 49,75,99]\ncv_score = []\nfor i in k:\n    knn = KNeighborsClassifier(n_neighbors=i,weights='distance')\n    sc = cross_val_score(knn, X = X_train_standardized,y = y_train,scoring = 'f1_macro',cv = 5)\n    cv_score.append(sc.mean())",
      "execution_count": 72,
      "outputs": []
    },
    {
      "metadata": {
        "trusted": true,
        "_uuid": "920538c4063438cbf9eb648081c5df8b755834e0"
      },
      "cell_type": "code",
      "source": "cv_score",
      "execution_count": 73,
      "outputs": [
        {
          "output_type": "execute_result",
          "execution_count": 73,
          "data": {
            "text/plain": "[0.46503721437941126,\n 0.4635698528572772,\n 0.4632023075168947,\n 0.4632023075168947,\n 0.4632023075168947,\n 0.4632023075168947]"
          },
          "metadata": {}
        }
      ]
    },
    {
      "metadata": {
        "trusted": true,
        "_uuid": "2580ab3e61b1cd9a034b1c6aa633fd3db448a998"
      },
      "cell_type": "code",
      "source": "#as per the result, the K=5 seems to be the best value of hyperparamter.",
      "execution_count": 74,
      "outputs": []
    },
    {
      "metadata": {
        "_uuid": "d57445ac0838dc105b194894bac5d2c085378b3f"
      },
      "cell_type": "markdown",
      "source": "**Part 2**\n* To apply the logistic regression for the data and check the results and performance"
    },
    {
      "metadata": {
        "trusted": true,
        "_uuid": "eb19273f4add6bec901fb0f544b206a51540fba7"
      },
      "cell_type": "code",
      "source": "#logistic regression with default vaules\nlrmodel = LogisticRegression()\nlrmodel.fit(X_train_standardized, y_train)\ny_pred = lrmodel.predict(X_test_standardized)\nprint(accuracy_score(y_test, y_pred))\nprint(confusion_matrix(y_test, y_pred))\nprint(classification_report(y_test, y_pred))",
      "execution_count": 75,
      "outputs": [
        {
          "output_type": "stream",
          "text": "/opt/conda/lib/python3.6/site-packages/sklearn/linear_model/logistic.py:433: FutureWarning: Default solver will be changed to 'lbfgs' in 0.22. Specify a solver to silence this warning.\n  FutureWarning)\n",
          "name": "stderr"
        },
        {
          "output_type": "stream",
          "text": "0.88792\n[[  496  1369]\n [   32 10603]]\n              precision    recall  f1-score   support\n\n           0       0.94      0.27      0.41      1865\n           1       0.89      1.00      0.94     10635\n\n   micro avg       0.89      0.89      0.89     12500\n   macro avg       0.91      0.63      0.68     12500\nweighted avg       0.89      0.89      0.86     12500\n\n",
          "name": "stdout"
        }
      ]
    },
    {
      "metadata": {
        "trusted": true,
        "_uuid": "6f718587d76f61d9995fe25ecec759cbf410dc79"
      },
      "cell_type": "code",
      "source": "#the model is better than KNN since there are some predictions for class 0. The precision is good but the recall \n#values are poor. to handle the data imbalance, use the weight paramter in the logistic regression",
      "execution_count": 76,
      "outputs": []
    },
    {
      "metadata": {
        "trusted": true,
        "_uuid": "bf9fe755be44522a957321d646cf6ace2ac5466a"
      },
      "cell_type": "code",
      "source": "#logistic regression with different weights to different classes\nlrmodel_2 = LogisticRegression(class_weight={1:1,0:4})\nlrmodel_2.fit(X_train_standardized, y_train)\ny_pred = lrmodel_2.predict(X_test_standardized)\nprint(accuracy_score(y_test, y_pred))\nprint(confusion_matrix(y_test, y_pred))\nprint(classification_report(y_test, y_pred))",
      "execution_count": 77,
      "outputs": [
        {
          "output_type": "stream",
          "text": "/opt/conda/lib/python3.6/site-packages/sklearn/linear_model/logistic.py:433: FutureWarning: Default solver will be changed to 'lbfgs' in 0.22. Specify a solver to silence this warning.\n  FutureWarning)\n",
          "name": "stderr"
        },
        {
          "output_type": "stream",
          "text": "0.89144\n[[  549  1316]\n [   41 10594]]\n              precision    recall  f1-score   support\n\n           0       0.93      0.29      0.45      1865\n           1       0.89      1.00      0.94     10635\n\n   micro avg       0.89      0.89      0.89     12500\n   macro avg       0.91      0.65      0.69     12500\nweighted avg       0.90      0.89      0.87     12500\n\n",
          "name": "stdout"
        }
      ]
    },
    {
      "metadata": {
        "trusted": true,
        "_uuid": "82020e6d42f7361b9329ed2b836c4f938f8049f6"
      },
      "cell_type": "code",
      "source": "#perform the cross validation for the best hyperparamter",
      "execution_count": 78,
      "outputs": []
    },
    {
      "metadata": {
        "trusted": true,
        "_uuid": "e3f727f35036c16d8867b03c7becb4a3a9478fd4"
      },
      "cell_type": "code",
      "source": "C = [0.1,1,10,50,100,500,1000]\ncv_score = []\nfor i in C:\n    lrmodel = LogisticRegression(C = i)\n    sc = cross_val_score(lrmodel, X = X_train_standardized,y = y_train,scoring = 'f1_macro',cv = 5)\n    cv_score.append(sc.mean())",
      "execution_count": 79,
      "outputs": [
        {
          "output_type": "stream",
          "text": "/opt/conda/lib/python3.6/site-packages/sklearn/linear_model/logistic.py:433: FutureWarning: Default solver will be changed to 'lbfgs' in 0.22. Specify a solver to silence this warning.\n  FutureWarning)\n/opt/conda/lib/python3.6/site-packages/sklearn/linear_model/logistic.py:433: FutureWarning: Default solver will be changed to 'lbfgs' in 0.22. Specify a solver to silence this warning.\n  FutureWarning)\n/opt/conda/lib/python3.6/site-packages/sklearn/linear_model/logistic.py:433: FutureWarning: Default solver will be changed to 'lbfgs' in 0.22. Specify a solver to silence this warning.\n  FutureWarning)\n/opt/conda/lib/python3.6/site-packages/sklearn/linear_model/logistic.py:433: FutureWarning: Default solver will be changed to 'lbfgs' in 0.22. Specify a solver to silence this warning.\n  FutureWarning)\n/opt/conda/lib/python3.6/site-packages/sklearn/linear_model/logistic.py:433: FutureWarning: Default solver will be changed to 'lbfgs' in 0.22. Specify a solver to silence this warning.\n  FutureWarning)\n/opt/conda/lib/python3.6/site-packages/sklearn/linear_model/logistic.py:433: FutureWarning: Default solver will be changed to 'lbfgs' in 0.22. Specify a solver to silence this warning.\n  FutureWarning)\n/opt/conda/lib/python3.6/site-packages/sklearn/linear_model/logistic.py:433: FutureWarning: Default solver will be changed to 'lbfgs' in 0.22. Specify a solver to silence this warning.\n  FutureWarning)\n",
          "name": "stderr"
        }
      ]
    },
    {
      "metadata": {
        "trusted": true,
        "_uuid": "408b1245444755585897d75cdc370cd004fc4401"
      },
      "cell_type": "code",
      "source": "cv_score",
      "execution_count": 80,
      "outputs": [
        {
          "output_type": "execute_result",
          "execution_count": 80,
          "data": {
            "text/plain": "[0.5721362316871588,\n 0.5834533407594694,\n 0.5940026244604458,\n 0.5966476790783756,\n 0.5967911903087295,\n 0.5970733979135738,\n 0.5967370566601]"
          },
          "metadata": {}
        }
      ]
    },
    {
      "metadata": {
        "trusted": true,
        "_uuid": "042f1f640a89d069e8e172c33af3914c7b28b500"
      },
      "cell_type": "code",
      "source": "#logistic regression with best hyper parameter values\nlrmodel = LogisticRegression(C = 1000, class_weight={1:1,0:4})\nlrmodel.fit(X_train_standardized, y_train)\ny_pred = lrmodel.predict(X_test_standardized)\nprint(accuracy_score(y_test, y_pred))\nprint(confusion_matrix(y_test, y_pred))\nprint(classification_report(y_test, y_pred))",
      "execution_count": 88,
      "outputs": [
        {
          "output_type": "stream",
          "text": "/opt/conda/lib/python3.6/site-packages/sklearn/linear_model/logistic.py:433: FutureWarning: Default solver will be changed to 'lbfgs' in 0.22. Specify a solver to silence this warning.\n  FutureWarning)\n",
          "name": "stderr"
        },
        {
          "output_type": "stream",
          "text": "0.8912\n[[  546  1319]\n [   41 10594]]\n              precision    recall  f1-score   support\n\n           0       0.93      0.29      0.45      1865\n           1       0.89      1.00      0.94     10635\n\n   micro avg       0.89      0.89      0.89     12500\n   macro avg       0.91      0.64      0.69     12500\nweighted avg       0.90      0.89      0.87     12500\n\n",
          "name": "stdout"
        }
      ]
    },
    {
      "metadata": {
        "trusted": true,
        "_uuid": "8b4693110347313fe51c1756e491b037e6251e8d"
      },
      "cell_type": "code",
      "source": "features = tfidf_vect.get_feature_names()\ncoeffs = lrmodel.coef_[0]\nfeats_table = pd.DataFrame(data = list(zip(features,coeffs)), columns=('features','coeffs'))",
      "execution_count": 96,
      "outputs": []
    },
    {
      "metadata": {
        "trusted": true,
        "_uuid": "7bca34a6ba5817a85e75bd5dc2e896ff5d323763"
      },
      "cell_type": "code",
      "source": "feats_table = feats_table.sort_values(by = 'coeffs')",
      "execution_count": 98,
      "outputs": []
    },
    {
      "metadata": {
        "trusted": true,
        "_uuid": "100c73ea4cf1d0e95eee4d30dac3947e8e283b57"
      },
      "cell_type": "code",
      "source": "#top 25 features for positive review\nfeats_table[-25:]",
      "execution_count": 100,
      "outputs": [
        {
          "output_type": "execute_result",
          "execution_count": 100,
          "data": {
            "text/plain": "         features    coeffs\n634445       very  0.069656\n299443   is great  0.070305\n261979       have  0.071342\n340818      loves  0.072366\n340233  love this  0.072722\n588877      these  0.074870\n195311  excellent  0.075449\n659195       with  0.076780\n44827         are  0.077551\n156632  delicious  0.081218\n285930         in  0.083224\n594787    this is  0.086486\n601822         to  0.089535\n574552        the  0.094001\n575427   the best  0.100055\n302630         it  0.102988\n373815         my  0.107389\n220556        for  0.107688\n73478        best  0.108420\n243896       good  0.111657\n339554       love  0.122597\n297912         is  0.127800\n593581       this  0.131454\n30822         and  0.155719\n249224      great  0.158283",
            "text/html": "<div>\n<style scoped>\n    .dataframe tbody tr th:only-of-type {\n        vertical-align: middle;\n    }\n\n    .dataframe tbody tr th {\n        vertical-align: top;\n    }\n\n    .dataframe thead th {\n        text-align: right;\n    }\n</style>\n<table border=\"1\" class=\"dataframe\">\n  <thead>\n    <tr style=\"text-align: right;\">\n      <th></th>\n      <th>features</th>\n      <th>coeffs</th>\n    </tr>\n  </thead>\n  <tbody>\n    <tr>\n      <th>634445</th>\n      <td>very</td>\n      <td>0.069656</td>\n    </tr>\n    <tr>\n      <th>299443</th>\n      <td>is great</td>\n      <td>0.070305</td>\n    </tr>\n    <tr>\n      <th>261979</th>\n      <td>have</td>\n      <td>0.071342</td>\n    </tr>\n    <tr>\n      <th>340818</th>\n      <td>loves</td>\n      <td>0.072366</td>\n    </tr>\n    <tr>\n      <th>340233</th>\n      <td>love this</td>\n      <td>0.072722</td>\n    </tr>\n    <tr>\n      <th>588877</th>\n      <td>these</td>\n      <td>0.074870</td>\n    </tr>\n    <tr>\n      <th>195311</th>\n      <td>excellent</td>\n      <td>0.075449</td>\n    </tr>\n    <tr>\n      <th>659195</th>\n      <td>with</td>\n      <td>0.076780</td>\n    </tr>\n    <tr>\n      <th>44827</th>\n      <td>are</td>\n      <td>0.077551</td>\n    </tr>\n    <tr>\n      <th>156632</th>\n      <td>delicious</td>\n      <td>0.081218</td>\n    </tr>\n    <tr>\n      <th>285930</th>\n      <td>in</td>\n      <td>0.083224</td>\n    </tr>\n    <tr>\n      <th>594787</th>\n      <td>this is</td>\n      <td>0.086486</td>\n    </tr>\n    <tr>\n      <th>601822</th>\n      <td>to</td>\n      <td>0.089535</td>\n    </tr>\n    <tr>\n      <th>574552</th>\n      <td>the</td>\n      <td>0.094001</td>\n    </tr>\n    <tr>\n      <th>575427</th>\n      <td>the best</td>\n      <td>0.100055</td>\n    </tr>\n    <tr>\n      <th>302630</th>\n      <td>it</td>\n      <td>0.102988</td>\n    </tr>\n    <tr>\n      <th>373815</th>\n      <td>my</td>\n      <td>0.107389</td>\n    </tr>\n    <tr>\n      <th>220556</th>\n      <td>for</td>\n      <td>0.107688</td>\n    </tr>\n    <tr>\n      <th>73478</th>\n      <td>best</td>\n      <td>0.108420</td>\n    </tr>\n    <tr>\n      <th>243896</th>\n      <td>good</td>\n      <td>0.111657</td>\n    </tr>\n    <tr>\n      <th>339554</th>\n      <td>love</td>\n      <td>0.122597</td>\n    </tr>\n    <tr>\n      <th>297912</th>\n      <td>is</td>\n      <td>0.127800</td>\n    </tr>\n    <tr>\n      <th>593581</th>\n      <td>this</td>\n      <td>0.131454</td>\n    </tr>\n    <tr>\n      <th>30822</th>\n      <td>and</td>\n      <td>0.155719</td>\n    </tr>\n    <tr>\n      <th>249224</th>\n      <td>great</td>\n      <td>0.158283</td>\n    </tr>\n  </tbody>\n</table>\n</div>"
          },
          "metadata": {}
        }
      ]
    },
    {
      "metadata": {
        "trusted": true,
        "_uuid": "a598c84e1a0abb657788a5a1aa61c31cf568efba"
      },
      "cell_type": "code",
      "source": "#top 25 features for negative review\nfeats_table[0:26]",
      "execution_count": 101,
      "outputs": [
        {
          "output_type": "execute_result",
          "execution_count": 101,
          "data": {
            "text/plain": "                  features    coeffs\n390622           not worth -0.092628\n634685   very disappointed -0.079098\n667401           would not -0.067947\n666639               worst -0.061686\n388522             not buy -0.058806\n389946       not recommend -0.057636\n165595        disappointed -0.057090\n388256                 not -0.055574\n568638            terrible -0.054940\n584074           the worst -0.054276\n76647       bigger package -0.052871\n161611             did not -0.051820\n165764       disappointing -0.050092\n56621                awful -0.048330\n598111               threw -0.046843\n277528            horrible -0.046487\n640915    was disappointed -0.045744\n52899               at all -0.045655\n389891        not purchase -0.045592\n389253             not hit -0.045247\n643357            waste of -0.044435\n390582            not what -0.043891\n157086  delicious probably -0.043589\n643299               waste -0.043290\n389162            not good -0.042720\n268577            heb just -0.042676",
            "text/html": "<div>\n<style scoped>\n    .dataframe tbody tr th:only-of-type {\n        vertical-align: middle;\n    }\n\n    .dataframe tbody tr th {\n        vertical-align: top;\n    }\n\n    .dataframe thead th {\n        text-align: right;\n    }\n</style>\n<table border=\"1\" class=\"dataframe\">\n  <thead>\n    <tr style=\"text-align: right;\">\n      <th></th>\n      <th>features</th>\n      <th>coeffs</th>\n    </tr>\n  </thead>\n  <tbody>\n    <tr>\n      <th>390622</th>\n      <td>not worth</td>\n      <td>-0.092628</td>\n    </tr>\n    <tr>\n      <th>634685</th>\n      <td>very disappointed</td>\n      <td>-0.079098</td>\n    </tr>\n    <tr>\n      <th>667401</th>\n      <td>would not</td>\n      <td>-0.067947</td>\n    </tr>\n    <tr>\n      <th>666639</th>\n      <td>worst</td>\n      <td>-0.061686</td>\n    </tr>\n    <tr>\n      <th>388522</th>\n      <td>not buy</td>\n      <td>-0.058806</td>\n    </tr>\n    <tr>\n      <th>389946</th>\n      <td>not recommend</td>\n      <td>-0.057636</td>\n    </tr>\n    <tr>\n      <th>165595</th>\n      <td>disappointed</td>\n      <td>-0.057090</td>\n    </tr>\n    <tr>\n      <th>388256</th>\n      <td>not</td>\n      <td>-0.055574</td>\n    </tr>\n    <tr>\n      <th>568638</th>\n      <td>terrible</td>\n      <td>-0.054940</td>\n    </tr>\n    <tr>\n      <th>584074</th>\n      <td>the worst</td>\n      <td>-0.054276</td>\n    </tr>\n    <tr>\n      <th>76647</th>\n      <td>bigger package</td>\n      <td>-0.052871</td>\n    </tr>\n    <tr>\n      <th>161611</th>\n      <td>did not</td>\n      <td>-0.051820</td>\n    </tr>\n    <tr>\n      <th>165764</th>\n      <td>disappointing</td>\n      <td>-0.050092</td>\n    </tr>\n    <tr>\n      <th>56621</th>\n      <td>awful</td>\n      <td>-0.048330</td>\n    </tr>\n    <tr>\n      <th>598111</th>\n      <td>threw</td>\n      <td>-0.046843</td>\n    </tr>\n    <tr>\n      <th>277528</th>\n      <td>horrible</td>\n      <td>-0.046487</td>\n    </tr>\n    <tr>\n      <th>640915</th>\n      <td>was disappointed</td>\n      <td>-0.045744</td>\n    </tr>\n    <tr>\n      <th>52899</th>\n      <td>at all</td>\n      <td>-0.045655</td>\n    </tr>\n    <tr>\n      <th>389891</th>\n      <td>not purchase</td>\n      <td>-0.045592</td>\n    </tr>\n    <tr>\n      <th>389253</th>\n      <td>not hit</td>\n      <td>-0.045247</td>\n    </tr>\n    <tr>\n      <th>643357</th>\n      <td>waste of</td>\n      <td>-0.044435</td>\n    </tr>\n    <tr>\n      <th>390582</th>\n      <td>not what</td>\n      <td>-0.043891</td>\n    </tr>\n    <tr>\n      <th>157086</th>\n      <td>delicious probably</td>\n      <td>-0.043589</td>\n    </tr>\n    <tr>\n      <th>643299</th>\n      <td>waste</td>\n      <td>-0.043290</td>\n    </tr>\n    <tr>\n      <th>389162</th>\n      <td>not good</td>\n      <td>-0.042720</td>\n    </tr>\n    <tr>\n      <th>268577</th>\n      <td>heb just</td>\n      <td>-0.042676</td>\n    </tr>\n  </tbody>\n</table>\n</div>"
          },
          "metadata": {}
        }
      ]
    },
    {
      "metadata": {
        "trusted": true,
        "_uuid": "0656b9b363d3198eaa39d1df5385328b958d54e2"
      },
      "cell_type": "code",
      "source": "#use SGD classifier using loss = log ",
      "execution_count": 82,
      "outputs": []
    },
    {
      "metadata": {
        "trusted": true,
        "_uuid": "44acf3e26469e442410eae514adbf61f3d4260b9"
      },
      "cell_type": "code",
      "source": "sgdcl = SGDClassifier(loss = 'log')\nsgdcl.fit(X_train_standardized, y_train)\ny_pred = sgdcl.predict(X_test_standardized)\nprint(accuracy_score(y_test, y_pred))\nprint(confusion_matrix(y_test, y_pred))\nprint(classification_report(y_test, y_pred))",
      "execution_count": 83,
      "outputs": [
        {
          "output_type": "stream",
          "text": "/opt/conda/lib/python3.6/site-packages/sklearn/linear_model/stochastic_gradient.py:166: FutureWarning: max_iter and tol parameters have been added in SGDClassifier in 0.19. If both are left unset, they default to max_iter=5 and tol=None. If tol is not None, max_iter defaults to max_iter=1000. From 0.21, default max_iter will be 1000, and default tol will be 1e-3.\n  FutureWarning)\n",
          "name": "stderr"
        },
        {
          "output_type": "stream",
          "text": "0.82728\n[[1071  794]\n [1365 9270]]\n              precision    recall  f1-score   support\n\n           0       0.44      0.57      0.50      1865\n           1       0.92      0.87      0.90     10635\n\n   micro avg       0.83      0.83      0.83     12500\n   macro avg       0.68      0.72      0.70     12500\nweighted avg       0.85      0.83      0.84     12500\n\n",
          "name": "stdout"
        }
      ]
    },
    {
      "metadata": {
        "trusted": true,
        "_uuid": "af596b51e1142c5377a29d2c9b946a211a142d8e"
      },
      "cell_type": "code",
      "source": "# the model accuracy is reduced. But the model is not overfit and there is significant prediction for class 0",
      "execution_count": 84,
      "outputs": []
    },
    {
      "metadata": {
        "trusted": true,
        "_uuid": "7c94e6aaeb9c840604868d0452e5a98c363ff8ca"
      },
      "cell_type": "code",
      "source": "berNB = BernoulliNB()\nberNB.fit(X_train_standardized, y_train)\ny_pred = berNB.predict(X_test_standardized)\nprint(accuracy_score(y_test, y_pred))\nprint(confusion_matrix(y_test, y_pred))\nprint(classification_report(y_test, y_pred))",
      "execution_count": 85,
      "outputs": [
        {
          "output_type": "stream",
          "text": "0.8492\n[[  102  1763]\n [  122 10513]]\n              precision    recall  f1-score   support\n\n           0       0.46      0.05      0.10      1865\n           1       0.86      0.99      0.92     10635\n\n   micro avg       0.85      0.85      0.85     12500\n   macro avg       0.66      0.52      0.51     12500\nweighted avg       0.80      0.85      0.80     12500\n\n",
          "name": "stdout"
        }
      ]
    },
    {
      "metadata": {
        "trusted": true,
        "_uuid": "a025362f471e4179a389b97242b065f534500d8a"
      },
      "cell_type": "markdown",
      "source": "svm = SVC()\nsvm.fit(X_train_standardized, y_train)\ny_pred = svm.predict(X_test_standardized)\nprint(accuracy_score(y_test, y_pred))\nprint(confusion_matrix(y_test, y_pred))\nprint(classification_report(y_test, y_pred))"
    },
    {
      "metadata": {
        "_uuid": "f9a3e9a1ddb0190f0d5f56f319456144f9d1988e"
      },
      "cell_type": "markdown",
      "source": "SVM applied using SGD classifier with hinge loss. "
    },
    {
      "metadata": {
        "trusted": true,
        "_uuid": "440feba91d0b43b2a9f40e60a3078e4f76f0a318"
      },
      "cell_type": "code",
      "source": "sgdcl2 = SGDClassifier(loss = 'hinge')\nsgdcl2.fit(X_train_standardized,y_train)\ny_pred = sgdcl2.predict(X_test_standardized)",
      "execution_count": 86,
      "outputs": [
        {
          "output_type": "stream",
          "text": "/opt/conda/lib/python3.6/site-packages/sklearn/linear_model/stochastic_gradient.py:166: FutureWarning: max_iter and tol parameters have been added in SGDClassifier in 0.19. If both are left unset, they default to max_iter=5 and tol=None. If tol is not None, max_iter defaults to max_iter=1000. From 0.21, default max_iter will be 1000, and default tol will be 1e-3.\n  FutureWarning)\n",
          "name": "stderr"
        }
      ]
    },
    {
      "metadata": {
        "trusted": true,
        "_uuid": "218454b5bfa946a001c5d991bc6eb6863de68126"
      },
      "cell_type": "code",
      "source": "print(accuracy_score(y_test, y_pred))\nprint(confusion_matrix(y_test, y_pred))\nprint(classification_report(y_test, y_pred))",
      "execution_count": 87,
      "outputs": [
        {
          "output_type": "stream",
          "text": "0.82168\n[[1064  801]\n [1428 9207]]\n              precision    recall  f1-score   support\n\n           0       0.43      0.57      0.49      1865\n           1       0.92      0.87      0.89     10635\n\n   micro avg       0.82      0.82      0.82     12500\n   macro avg       0.67      0.72      0.69     12500\nweighted avg       0.85      0.82      0.83     12500\n\n",
          "name": "stdout"
        }
      ]
    },
    {
      "metadata": {
        "trusted": true,
        "_uuid": "8b816cb483c532ddc047bccad737c5b2b21d9e90"
      },
      "cell_type": "code",
      "source": "",
      "execution_count": null,
      "outputs": []
    }
  ],
  "metadata": {
    "kernelspec": {
      "display_name": "Python 3",
      "language": "python",
      "name": "python3"
    },
    "language_info": {
      "name": "python",
      "version": "3.6.6",
      "mimetype": "text/x-python",
      "codemirror_mode": {
        "name": "ipython",
        "version": 3
      },
      "pygments_lexer": "ipython3",
      "nbconvert_exporter": "python",
      "file_extension": ".py"
    }
  },
  "nbformat": 4,
  "nbformat_minor": 1
}