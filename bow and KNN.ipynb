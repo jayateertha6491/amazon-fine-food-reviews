{
  "cells": [
    {
      "metadata": {
        "_uuid": "8f2839f25d086af736a60e9eeb907d3b93b6e0e5",
        "_cell_guid": "b1076dfc-b9ad-4769-8c92-a6c4dae69d19",
        "trusted": true
      },
      "cell_type": "code",
      "source": "# This Python 3 environment comes with many helpful analytics libraries installed\n# It is defined by the kaggle/python docker image: https://github.com/kaggle/docker-python\n# For example, here's several helpful packages to load in \n\nimport numpy as np # linear algebra\nimport pandas as pd # data processing, CSV file I/O (e.g. pd.read_csv)\n\n# Input data files are available in the \"../input/\" directory.\n# For example, running this (by clicking run or pressing Shift+Enter) will list the files in the input directory\n\nimport os\nprint(os.listdir(\"../input\"))\n\n# Any results you write to the current directory are saved as output.",
      "execution_count": 29,
      "outputs": [
        {
          "output_type": "stream",
          "text": "['database.sqlite', 'hashes.txt', 'Reviews.csv']\n",
          "name": "stdout"
        }
      ]
    },
    {
      "metadata": {
        "_cell_guid": "79c7e3d0-c299-4dcb-8224-4455121ee9b0",
        "_uuid": "d629ff2d2480ee46fbb7e2d37f6b5fab8052498a",
        "trusted": true
      },
      "cell_type": "code",
      "source": "data = pd.read_csv('../input/Reviews.csv')",
      "execution_count": 30,
      "outputs": []
    },
    {
      "metadata": {
        "trusted": true,
        "_uuid": "06a5ef92fbccf30ec57bf6259f4207e96894032d"
      },
      "cell_type": "code",
      "source": "data.head(5)",
      "execution_count": 31,
      "outputs": [
        {
          "output_type": "execute_result",
          "execution_count": 31,
          "data": {
            "text/plain": "   Id                        ...                                                                       Text\n0   1                        ...                          I have bought several of the Vitality canned d...\n1   2                        ...                          Product arrived labeled as Jumbo Salted Peanut...\n2   3                        ...                          This is a confection that has been around a fe...\n3   4                        ...                          If you are looking for the secret ingredient i...\n4   5                        ...                          Great taffy at a great price.  There was a wid...\n\n[5 rows x 10 columns]",
            "text/html": "<div>\n<style scoped>\n    .dataframe tbody tr th:only-of-type {\n        vertical-align: middle;\n    }\n\n    .dataframe tbody tr th {\n        vertical-align: top;\n    }\n\n    .dataframe thead th {\n        text-align: right;\n    }\n</style>\n<table border=\"1\" class=\"dataframe\">\n  <thead>\n    <tr style=\"text-align: right;\">\n      <th></th>\n      <th>Id</th>\n      <th>ProductId</th>\n      <th>UserId</th>\n      <th>ProfileName</th>\n      <th>HelpfulnessNumerator</th>\n      <th>HelpfulnessDenominator</th>\n      <th>Score</th>\n      <th>Time</th>\n      <th>Summary</th>\n      <th>Text</th>\n    </tr>\n  </thead>\n  <tbody>\n    <tr>\n      <th>0</th>\n      <td>1</td>\n      <td>B001E4KFG0</td>\n      <td>A3SGXH7AUHU8GW</td>\n      <td>delmartian</td>\n      <td>1</td>\n      <td>1</td>\n      <td>5</td>\n      <td>1303862400</td>\n      <td>Good Quality Dog Food</td>\n      <td>I have bought several of the Vitality canned d...</td>\n    </tr>\n    <tr>\n      <th>1</th>\n      <td>2</td>\n      <td>B00813GRG4</td>\n      <td>A1D87F6ZCVE5NK</td>\n      <td>dll pa</td>\n      <td>0</td>\n      <td>0</td>\n      <td>1</td>\n      <td>1346976000</td>\n      <td>Not as Advertised</td>\n      <td>Product arrived labeled as Jumbo Salted Peanut...</td>\n    </tr>\n    <tr>\n      <th>2</th>\n      <td>3</td>\n      <td>B000LQOCH0</td>\n      <td>ABXLMWJIXXAIN</td>\n      <td>Natalia Corres \"Natalia Corres\"</td>\n      <td>1</td>\n      <td>1</td>\n      <td>4</td>\n      <td>1219017600</td>\n      <td>\"Delight\" says it all</td>\n      <td>This is a confection that has been around a fe...</td>\n    </tr>\n    <tr>\n      <th>3</th>\n      <td>4</td>\n      <td>B000UA0QIQ</td>\n      <td>A395BORC6FGVXV</td>\n      <td>Karl</td>\n      <td>3</td>\n      <td>3</td>\n      <td>2</td>\n      <td>1307923200</td>\n      <td>Cough Medicine</td>\n      <td>If you are looking for the secret ingredient i...</td>\n    </tr>\n    <tr>\n      <th>4</th>\n      <td>5</td>\n      <td>B006K2ZZ7K</td>\n      <td>A1UQRSCLF8GW1T</td>\n      <td>Michael D. Bigham \"M. Wassir\"</td>\n      <td>0</td>\n      <td>0</td>\n      <td>5</td>\n      <td>1350777600</td>\n      <td>Great taffy</td>\n      <td>Great taffy at a great price.  There was a wid...</td>\n    </tr>\n  </tbody>\n</table>\n</div>"
          },
          "metadata": {}
        }
      ]
    },
    {
      "metadata": {
        "trusted": true,
        "_uuid": "09cdb4dbb1b1bc8ead2741892cfd9e32d8f45ced"
      },
      "cell_type": "code",
      "source": "data.shape\n",
      "execution_count": 32,
      "outputs": [
        {
          "output_type": "execute_result",
          "execution_count": 32,
          "data": {
            "text/plain": "(568454, 10)"
          },
          "metadata": {}
        }
      ]
    },
    {
      "metadata": {
        "trusted": true,
        "_uuid": "1e449365f01f9236715ea3a8dd920403f70465c3"
      },
      "cell_type": "code",
      "source": "#to remove the datapoints which are neither positive nor negative\ndata = data[data['Score']!=3]",
      "execution_count": 33,
      "outputs": []
    },
    {
      "metadata": {
        "trusted": true,
        "_uuid": "689ab3e466056f3d6b3707ee302245e70ae51186"
      },
      "cell_type": "code",
      "source": "data.shape",
      "execution_count": 34,
      "outputs": [
        {
          "output_type": "execute_result",
          "execution_count": 34,
          "data": {
            "text/plain": "(525814, 10)"
          },
          "metadata": {}
        }
      ]
    },
    {
      "metadata": {
        "trusted": true,
        "_uuid": "152dcbef5af81c446ba183aa99b5e02650406619"
      },
      "cell_type": "code",
      "source": "#for score>3, it is 'positive' review and score<3 is 'negative' review\ndef partition(x):\n    if x>3:\n        return 'positive'\n    else:\n        return 'negative'",
      "execution_count": 35,
      "outputs": []
    },
    {
      "metadata": {
        "trusted": true,
        "_uuid": "75a324381a142aeeedf89ceb4ca7a9b4fd70126e"
      },
      "cell_type": "code",
      "source": "data['Score'] = data['Score'].apply(partition)",
      "execution_count": 36,
      "outputs": []
    },
    {
      "metadata": {
        "trusted": true,
        "_uuid": "baa14822b04b7f2b49ade5fe2c5fbdb9d1633922"
      },
      "cell_type": "code",
      "source": "sorted_data = data.sort_values(by='ProductId', axis=0)",
      "execution_count": 37,
      "outputs": []
    },
    {
      "metadata": {
        "trusted": true,
        "_uuid": "0d42d0532888a26fa20d1579cf3e7a71a5e686e3"
      },
      "cell_type": "code",
      "source": "final = sorted_data.drop_duplicates(subset={\"UserId\",\"Time\",\"Text\",\"ProfileName\"})\nfinal['Id'].size/sorted_data['Id'].size",
      "execution_count": 38,
      "outputs": [
        {
          "output_type": "execute_result",
          "execution_count": 38,
          "data": {
            "text/plain": "0.6925890143662968"
          },
          "metadata": {}
        }
      ]
    },
    {
      "metadata": {
        "trusted": true,
        "_uuid": "00e74b3ff7c645c45d327a410f73c09d96b1f5ca"
      },
      "cell_type": "code",
      "source": "final = final[final.HelpfulnessNumerator<=final.HelpfulnessDenominator]",
      "execution_count": 39,
      "outputs": []
    },
    {
      "metadata": {
        "trusted": true,
        "_uuid": "1c45f36feb66cdc81f28bf05e0fd12a9f8e7cac6"
      },
      "cell_type": "code",
      "source": "final['Score_n'] = final['Score'].apply(lambda x:1 if x == 'positive' else 0)",
      "execution_count": 112,
      "outputs": []
    },
    {
      "metadata": {
        "trusted": true,
        "_uuid": "4c2d744fc270775e3740a409f97d216d9a6ddae0"
      },
      "cell_type": "code",
      "source": "",
      "execution_count": null,
      "outputs": []
    },
    {
      "metadata": {
        "trusted": true,
        "_uuid": "957dfd4a812e9d7f04cbc25ea231d15a2b798987"
      },
      "cell_type": "code",
      "source": "final_1 = final[:10000]",
      "execution_count": 78,
      "outputs": []
    },
    {
      "metadata": {
        "trusted": true,
        "_uuid": "abf3e89ce592a81c08ec84b704f32041b7b30b91"
      },
      "cell_type": "code",
      "source": "import re\n\ndef cleanhtml(raw_html):\n    cleanr = re.compile('<.*?>')\n    cleantext = re.sub(cleanr, '', raw_html)\n    return cleantext",
      "execution_count": 79,
      "outputs": []
    },
    {
      "metadata": {
        "trusted": true,
        "_uuid": "c6ef8005b2d5e11d29fb35d36e9d732ff476ff5c"
      },
      "cell_type": "code",
      "source": "final_1['Text'] = final_1['Text'].apply(cleanhtml)",
      "execution_count": 80,
      "outputs": [
        {
          "output_type": "stream",
          "text": "/opt/conda/lib/python3.6/site-packages/ipykernel_launcher.py:1: SettingWithCopyWarning: \nA value is trying to be set on a copy of a slice from a DataFrame.\nTry using .loc[row_indexer,col_indexer] = value instead\n\nSee the caveats in the documentation: http://pandas.pydata.org/pandas-docs/stable/indexing.html#indexing-view-versus-copy\n  \"\"\"Entry point for launching an IPython kernel.\n",
          "name": "stderr"
        }
      ]
    },
    {
      "metadata": {
        "trusted": true,
        "_uuid": "a0eb568b217e427184965f76ec4f502c2ed65092"
      },
      "cell_type": "code",
      "source": "import string\n\ndef cleanpunc(raw_string):\n    #print(raw_string)\n    newstr = [char for char in raw_string.split() if char not in string.punctuation]\n    #print(newstr)\n    newstr = ' '.join(newstr)\n    return newstr",
      "execution_count": 77,
      "outputs": []
    },
    {
      "metadata": {
        "trusted": true,
        "_uuid": "b2abee7830f9597618aff26305b762c9dd5fe184"
      },
      "cell_type": "code",
      "source": "final_1['Text'] = final_1['Text'].apply(cleanpunc)",
      "execution_count": 44,
      "outputs": [
        {
          "output_type": "stream",
          "text": "/opt/conda/lib/python3.6/site-packages/ipykernel_launcher.py:1: SettingWithCopyWarning: \nA value is trying to be set on a copy of a slice from a DataFrame.\nTry using .loc[row_indexer,col_indexer] = value instead\n\nSee the caveats in the documentation: http://pandas.pydata.org/pandas-docs/stable/indexing.html#indexing-view-versus-copy\n  \"\"\"Entry point for launching an IPython kernel.\n",
          "name": "stderr"
        }
      ]
    },
    {
      "metadata": {
        "trusted": true,
        "_uuid": "8a63ec6b28dc44e9ffddb19e002efd50d68226b7"
      },
      "cell_type": "code",
      "source": "final_1.head(5)",
      "execution_count": 45,
      "outputs": [
        {
          "output_type": "execute_result",
          "execution_count": 45,
          "data": {
            "text/plain": "            Id                        ...                                                                       Text\n150523  150524                        ...                          this witty little book makes my son laugh at l...\n150505  150506                        ...                          I grew up reading these Sendak books, and watc...\n150506  150507                        ...                          This is a fun way for children to learn their ...\n150507  150508                        ...                          This is a great little book to read aloud- it ...\n150508  150509                        ...                          This is a book of poetry about the months of t...\n\n[5 rows x 10 columns]",
            "text/html": "<div>\n<style scoped>\n    .dataframe tbody tr th:only-of-type {\n        vertical-align: middle;\n    }\n\n    .dataframe tbody tr th {\n        vertical-align: top;\n    }\n\n    .dataframe thead th {\n        text-align: right;\n    }\n</style>\n<table border=\"1\" class=\"dataframe\">\n  <thead>\n    <tr style=\"text-align: right;\">\n      <th></th>\n      <th>Id</th>\n      <th>ProductId</th>\n      <th>UserId</th>\n      <th>ProfileName</th>\n      <th>HelpfulnessNumerator</th>\n      <th>HelpfulnessDenominator</th>\n      <th>Score</th>\n      <th>Time</th>\n      <th>Summary</th>\n      <th>Text</th>\n    </tr>\n  </thead>\n  <tbody>\n    <tr>\n      <th>150523</th>\n      <td>150524</td>\n      <td>0006641040</td>\n      <td>ACITT7DI6IDDL</td>\n      <td>shari zychinski</td>\n      <td>0</td>\n      <td>0</td>\n      <td>positive</td>\n      <td>939340800</td>\n      <td>EVERY book is educational</td>\n      <td>this witty little book makes my son laugh at l...</td>\n    </tr>\n    <tr>\n      <th>150505</th>\n      <td>150506</td>\n      <td>0006641040</td>\n      <td>A2IW4PEEKO2R0U</td>\n      <td>Tracy</td>\n      <td>1</td>\n      <td>1</td>\n      <td>positive</td>\n      <td>1194739200</td>\n      <td>Love the book, miss the hard cover version</td>\n      <td>I grew up reading these Sendak books, and watc...</td>\n    </tr>\n    <tr>\n      <th>150506</th>\n      <td>150507</td>\n      <td>0006641040</td>\n      <td>A1S4A3IQ2MU7V4</td>\n      <td>sally sue \"sally sue\"</td>\n      <td>1</td>\n      <td>1</td>\n      <td>positive</td>\n      <td>1191456000</td>\n      <td>chicken soup with rice months</td>\n      <td>This is a fun way for children to learn their ...</td>\n    </tr>\n    <tr>\n      <th>150507</th>\n      <td>150508</td>\n      <td>0006641040</td>\n      <td>AZGXZ2UUK6X</td>\n      <td>Catherine Hallberg \"(Kate)\"</td>\n      <td>1</td>\n      <td>1</td>\n      <td>positive</td>\n      <td>1076025600</td>\n      <td>a good swingy rhythm for reading aloud</td>\n      <td>This is a great little book to read aloud- it ...</td>\n    </tr>\n    <tr>\n      <th>150508</th>\n      <td>150509</td>\n      <td>0006641040</td>\n      <td>A3CMRKGE0P909G</td>\n      <td>Teresa</td>\n      <td>3</td>\n      <td>4</td>\n      <td>positive</td>\n      <td>1018396800</td>\n      <td>A great way to learn the months</td>\n      <td>This is a book of poetry about the months of t...</td>\n    </tr>\n  </tbody>\n</table>\n</div>"
          },
          "metadata": {}
        }
      ]
    },
    {
      "metadata": {
        "trusted": true,
        "_uuid": "88cf974406c2a6cd7dab4572a359d439b3c55237"
      },
      "cell_type": "code",
      "source": "final_data = final_1",
      "execution_count": 46,
      "outputs": []
    },
    {
      "metadata": {
        "trusted": true,
        "_uuid": "0d7fd2a26ac2178c8a85bbae9f4c553caea391bd"
      },
      "cell_type": "code",
      "source": "from sklearn.model_selection import train_test_split",
      "execution_count": 47,
      "outputs": []
    },
    {
      "metadata": {
        "trusted": true,
        "_uuid": "277ced962650ea6485e51be5806e4e32d47fcd89"
      },
      "cell_type": "code",
      "source": "X_temp, X_test, y_temp, y_test = train_test_split(final_data['Text'], final_data['Score'], test_size= 0.2)",
      "execution_count": 48,
      "outputs": []
    },
    {
      "metadata": {
        "trusted": true,
        "_uuid": "f551ef4a59ac46d69c6346787d223fa9bfa7d754"
      },
      "cell_type": "code",
      "source": "X_train, X_cv, y_train, y_cv = train_test_split(X_temp, y_temp, test_size = 0.2)",
      "execution_count": 49,
      "outputs": []
    },
    {
      "metadata": {
        "trusted": true,
        "_uuid": "f2c83adc80dc254649b5a2c8ceedb43cd9188bf4"
      },
      "cell_type": "code",
      "source": "print(X_train.shape)\nprint(X_test.shape)\nprint(y_train.shape)\nprint(y_test.shape)\nprint(X_cv.shape)\nprint(y_cv.shape)",
      "execution_count": 50,
      "outputs": [
        {
          "output_type": "stream",
          "text": "(6400,)\n(2000,)\n(6400,)\n(2000,)\n(1600,)\n(1600,)\n",
          "name": "stdout"
        }
      ]
    },
    {
      "metadata": {
        "trusted": true,
        "_uuid": "22adebd979e0afeef9f07ea3aca80d4700eac602"
      },
      "cell_type": "code",
      "source": "#bag of words with bigrams\nfrom sklearn.feature_extraction.text import CountVectorizer",
      "execution_count": 51,
      "outputs": []
    },
    {
      "metadata": {
        "trusted": true,
        "_uuid": "5ad411ed42c4ea394388104a842756290f64d9b1"
      },
      "cell_type": "code",
      "source": "#create an object of countvectorizer with bigrams. \ncount_vect = CountVectorizer(ngram_range=(1,2))",
      "execution_count": 52,
      "outputs": []
    },
    {
      "metadata": {
        "trusted": true,
        "_uuid": "e1ea0c98644224e5b534e2dd329075fca5fcae05"
      },
      "cell_type": "code",
      "source": "#fit transform the training values to train the model. transform the test and cv values so that there is no data leak\nfinal_bigram_train = count_vect.fit_transform(X_train.values)\nfinal_bigram_test = count_vect.transform(X_test.values)\nfinal_bigram_cv = count_vect.transform(X_cv.values)",
      "execution_count": 53,
      "outputs": []
    },
    {
      "metadata": {
        "trusted": true,
        "_uuid": "1caa3523bc640632eed65bfe6f9ddbe8c36360aa"
      },
      "cell_type": "code",
      "source": "final_bigram_train.shape",
      "execution_count": 54,
      "outputs": [
        {
          "output_type": "execute_result",
          "execution_count": 54,
          "data": {
            "text/plain": "(6400, 208900)"
          },
          "metadata": {}
        }
      ]
    },
    {
      "metadata": {
        "trusted": true,
        "_uuid": "26c27301c6610285e1881acecdd6e23da0464f98"
      },
      "cell_type": "code",
      "source": "#standardize the data \nfrom sklearn.preprocessing import StandardScaler",
      "execution_count": 55,
      "outputs": []
    },
    {
      "metadata": {
        "trusted": true,
        "_uuid": "e09e764b24314421398414aa7c15efbd25a8006b"
      },
      "cell_type": "code",
      "source": "#create an object for StandardScaler\nsc = StandardScaler(with_mean=False)",
      "execution_count": 56,
      "outputs": []
    },
    {
      "metadata": {
        "trusted": true,
        "_uuid": "2cb58d3a3249b679f2fa452cb530c7a2a31de399"
      },
      "cell_type": "code",
      "source": "X_train_standardized = sc.fit_transform(final_bigram_train)\nX_test_standardized = sc.transform(final_bigram_test)\nX_cv_standarized = sc.transform(final_bigram_cv)",
      "execution_count": 57,
      "outputs": [
        {
          "output_type": "stream",
          "text": "/opt/conda/lib/python3.6/site-packages/sklearn/utils/validation.py:595: DataConversionWarning: Data with input dtype int64 was converted to float64 by StandardScaler.\n  warnings.warn(msg, DataConversionWarning)\n",
          "name": "stderr"
        }
      ]
    },
    {
      "metadata": {
        "trusted": true,
        "_uuid": "4b9f4e5b0c60b5411d24b432f7d5fc823e6e8ec9"
      },
      "cell_type": "code",
      "source": "#to train the model using KNN.\nfrom sklearn.neighbors import KNeighborsClassifier",
      "execution_count": 58,
      "outputs": []
    },
    {
      "metadata": {
        "trusted": true,
        "_uuid": "7c9dc4eafec5ab326a104c78406469c61ee86361"
      },
      "cell_type": "code",
      "source": "#create an object of KNN with default values\nKnn = KNeighborsClassifier()",
      "execution_count": 59,
      "outputs": []
    },
    {
      "metadata": {
        "trusted": true,
        "_uuid": "64fb17b638cb47effdd4669005add87a7fd2b11f"
      },
      "cell_type": "code",
      "source": "Knn.fit(X_train_standardized, y_train)",
      "execution_count": 60,
      "outputs": [
        {
          "output_type": "execute_result",
          "execution_count": 60,
          "data": {
            "text/plain": "KNeighborsClassifier(algorithm='auto', leaf_size=30, metric='minkowski',\n           metric_params=None, n_jobs=None, n_neighbors=5, p=2,\n           weights='uniform')"
          },
          "metadata": {}
        }
      ]
    },
    {
      "metadata": {
        "trusted": true,
        "_uuid": "7fcb792165e40b5e22443598918aa298bd26e40c"
      },
      "cell_type": "code",
      "source": "y_pred = Knn.predict(X_test_standardized)",
      "execution_count": 61,
      "outputs": []
    },
    {
      "metadata": {
        "trusted": true,
        "_uuid": "5a1a2402a6e9fc318818c6052b1192af91c3bcf7"
      },
      "cell_type": "code",
      "source": "#to measure the performance of the simple model\nfrom sklearn.metrics import accuracy_score, confusion_matrix, classification_report",
      "execution_count": 62,
      "outputs": []
    },
    {
      "metadata": {
        "trusted": true,
        "_uuid": "1c935e1267d6dcb87efe14d6ab8a6a4fd9f2ac12"
      },
      "cell_type": "code",
      "source": "accuracy_score(y_test, y_pred)",
      "execution_count": 63,
      "outputs": [
        {
          "output_type": "execute_result",
          "execution_count": 63,
          "data": {
            "text/plain": "0.847"
          },
          "metadata": {}
        }
      ]
    },
    {
      "metadata": {
        "trusted": true,
        "_uuid": "5b68b7347c72a5a81d1de21584b2f22f7eebbdb4"
      },
      "cell_type": "code",
      "source": "confusion_matrix(y_test, y_pred)",
      "execution_count": 64,
      "outputs": [
        {
          "output_type": "execute_result",
          "execution_count": 64,
          "data": {
            "text/plain": "array([[   0,  306],\n       [   0, 1694]])"
          },
          "metadata": {}
        }
      ]
    },
    {
      "metadata": {
        "trusted": true,
        "_uuid": "f4c9b80c96c5f6825df5effa9be4875d320b8491"
      },
      "cell_type": "code",
      "source": "print(classification_report(y_test, y_pred))",
      "execution_count": 65,
      "outputs": [
        {
          "output_type": "stream",
          "text": "              precision    recall  f1-score   support\n\n    negative       0.00      0.00      0.00       306\n    positive       0.85      1.00      0.92      1694\n\n   micro avg       0.85      0.85      0.85      2000\n   macro avg       0.42      0.50      0.46      2000\nweighted avg       0.72      0.85      0.78      2000\n\n",
          "name": "stdout"
        },
        {
          "output_type": "stream",
          "text": "/opt/conda/lib/python3.6/site-packages/sklearn/metrics/classification.py:1143: UndefinedMetricWarning: Precision and F-score are ill-defined and being set to 0.0 in labels with no predicted samples.\n  'precision', 'predicted', average, warn_for)\n",
          "name": "stderr"
        }
      ]
    },
    {
      "metadata": {
        "trusted": true,
        "_uuid": "3ab52e04b2d2b7e94b241995748141e38f17c1e3"
      },
      "cell_type": "code",
      "source": "#data seems highly imbalanced. \ny_train.value_counts()",
      "execution_count": 66,
      "outputs": [
        {
          "output_type": "execute_result",
          "execution_count": 66,
          "data": {
            "text/plain": "positive    5363\nnegative    1037\nName: Score, dtype: int64"
          },
          "metadata": {}
        }
      ]
    },
    {
      "metadata": {
        "trusted": true,
        "_uuid": "2a55a41e35e1d218c18952b8b085812d20f7c4de"
      },
      "cell_type": "code",
      "source": "y_test.value_counts()",
      "execution_count": 67,
      "outputs": [
        {
          "output_type": "execute_result",
          "execution_count": 67,
          "data": {
            "text/plain": "positive    1694\nnegative     306\nName: Score, dtype: int64"
          },
          "metadata": {}
        }
      ]
    },
    {
      "metadata": {
        "_uuid": "429ffc78c501327f0fa107d05b7a8f411c7af465"
      },
      "cell_type": "markdown",
      "source": "**conclusion:**\n> The above model is created using default values of KNN. The data selected was small and was heavily imbalanced. Hence the results are skewed and all are predicted as positive."
    },
    {
      "metadata": {
        "trusted": true,
        "_uuid": "25352f519e6c4aa5a7c02f06b093dc68296ea720"
      },
      "cell_type": "code",
      "source": "#lets consider more data and create one more model. split the data keeping the distribution of the Score same\n#across the split",
      "execution_count": 69,
      "outputs": []
    },
    {
      "metadata": {
        "trusted": true,
        "_uuid": "10e25302170732979e9594da9fb001ac6c613372"
      },
      "cell_type": "code",
      "source": "final_1 = final[:30000]\nfinal_1['Text'] = final_1['Text'].apply(cleanhtml)\nfinal_1['Text'] = final_1['Text'].apply(cleanpunc)\nfinal_data = final_1",
      "execution_count": 81,
      "outputs": [
        {
          "output_type": "stream",
          "text": "/opt/conda/lib/python3.6/site-packages/ipykernel_launcher.py:2: SettingWithCopyWarning: \nA value is trying to be set on a copy of a slice from a DataFrame.\nTry using .loc[row_indexer,col_indexer] = value instead\n\nSee the caveats in the documentation: http://pandas.pydata.org/pandas-docs/stable/indexing.html#indexing-view-versus-copy\n  \n/opt/conda/lib/python3.6/site-packages/ipykernel_launcher.py:3: SettingWithCopyWarning: \nA value is trying to be set on a copy of a slice from a DataFrame.\nTry using .loc[row_indexer,col_indexer] = value instead\n\nSee the caveats in the documentation: http://pandas.pydata.org/pandas-docs/stable/indexing.html#indexing-view-versus-copy\n  This is separate from the ipykernel package so we can avoid doing imports until\n",
          "name": "stderr"
        }
      ]
    },
    {
      "metadata": {
        "trusted": true,
        "_uuid": "9e18d569aaf2eb08cc17d25894568f3d998a2337"
      },
      "cell_type": "code",
      "source": "X_temp, X_test, y_temp, y_test = train_test_split(final_data['Text'], final_data['Score'], test_size= 0.2, stratify = final_data['Score'])",
      "execution_count": 82,
      "outputs": []
    },
    {
      "metadata": {
        "trusted": true,
        "_uuid": "d93d424d4301e85638a63fe872b26fa9ef92fe3b"
      },
      "cell_type": "code",
      "source": "X_train, X_cv, y_train, y_cv = train_test_split(X_temp, y_temp, test_size = 0.2, stratify = y_temp)",
      "execution_count": 83,
      "outputs": []
    },
    {
      "metadata": {
        "trusted": true,
        "_uuid": "57337f0c3f125032c93eba03512e0dea05adda31"
      },
      "cell_type": "code",
      "source": "print(X_train.shape)\nprint(X_test.shape)\nprint(y_train.shape)\nprint(y_test.shape)\nprint(X_cv.shape)\nprint(y_cv.shape)",
      "execution_count": 84,
      "outputs": [
        {
          "output_type": "stream",
          "text": "(19200,)\n(6000,)\n(19200,)\n(6000,)\n(4800,)\n(4800,)\n",
          "name": "stdout"
        }
      ]
    },
    {
      "metadata": {
        "trusted": true,
        "_uuid": "8fc9d3ae197a2f233c33d577213868ae832ae4ab"
      },
      "cell_type": "code",
      "source": "#create an object of countvectorizer with bigrams. \ncount_vect_2 = CountVectorizer(ngram_range=(1,2))",
      "execution_count": 85,
      "outputs": []
    },
    {
      "metadata": {
        "trusted": true,
        "_uuid": "2611e5a6fb79234ac57b05e09764a791bc768047"
      },
      "cell_type": "code",
      "source": "#fit transform the training values to train the model. transform the test and cv values so that there is no data leak\nfinal_bigram_train = count_vect_2.fit_transform(X_train.values)\nfinal_bigram_test = count_vect_2.transform(X_test.values)\nfinal_bigram_cv = count_vect_2.transform(X_cv.values)",
      "execution_count": 86,
      "outputs": []
    },
    {
      "metadata": {
        "trusted": true,
        "_uuid": "bfbaf9435b9474ce34848637fc4a92dfa46cf735"
      },
      "cell_type": "code",
      "source": "final_bigram_train.shape",
      "execution_count": 87,
      "outputs": [
        {
          "output_type": "execute_result",
          "execution_count": 87,
          "data": {
            "text/plain": "(19200, 444363)"
          },
          "metadata": {}
        }
      ]
    },
    {
      "metadata": {
        "trusted": true,
        "_uuid": "e3956b6f4b673ac17bbc96bcebe822b62f0b05a1"
      },
      "cell_type": "code",
      "source": "#create an object for StandardScaler\nsc = StandardScaler(with_mean=False)",
      "execution_count": 88,
      "outputs": []
    },
    {
      "metadata": {
        "trusted": true,
        "_uuid": "25c807b4ab2fcecb8befff1c5930a6cd2927bec4"
      },
      "cell_type": "code",
      "source": "X_train_standardized = sc.fit_transform(final_bigram_train)\nX_test_standardized = sc.transform(final_bigram_test)\nX_cv_standarized = sc.transform(final_bigram_cv)",
      "execution_count": 89,
      "outputs": [
        {
          "output_type": "stream",
          "text": "/opt/conda/lib/python3.6/site-packages/sklearn/utils/validation.py:595: DataConversionWarning: Data with input dtype int64 was converted to float64 by StandardScaler.\n  warnings.warn(msg, DataConversionWarning)\n",
          "name": "stderr"
        }
      ]
    },
    {
      "metadata": {
        "trusted": true,
        "_uuid": "40d7134bcd7190f8cb3f83e0783c4d970d47989c"
      },
      "cell_type": "code",
      "source": "#create an object of KNN with default values\nKnn_2 = KNeighborsClassifier(weights='distance')",
      "execution_count": 103,
      "outputs": []
    },
    {
      "metadata": {
        "trusted": true,
        "_uuid": "c00d066e57463894e8363356a8a5a0607a6c1dc5"
      },
      "cell_type": "code",
      "source": "Knn_2.fit(X_train_standardized, y_train)",
      "execution_count": 104,
      "outputs": [
        {
          "output_type": "execute_result",
          "execution_count": 104,
          "data": {
            "text/plain": "KNeighborsClassifier(algorithm='auto', leaf_size=30, metric='minkowski',\n           metric_params=None, n_jobs=None, n_neighbors=5, p=2,\n           weights='distance')"
          },
          "metadata": {}
        }
      ]
    },
    {
      "metadata": {
        "trusted": true,
        "_uuid": "f8fda79864974e69dde47a154e976caa35bf51ca"
      },
      "cell_type": "code",
      "source": "y_pred = Knn_2.predict(X_test_standardized)",
      "execution_count": 105,
      "outputs": []
    },
    {
      "metadata": {
        "trusted": true,
        "_uuid": "240838767c01a8227d8aaccc3039633a79cca061"
      },
      "cell_type": "code",
      "source": "accuracy_score(y_test, y_pred)",
      "execution_count": 106,
      "outputs": [
        {
          "output_type": "execute_result",
          "execution_count": 106,
          "data": {
            "text/plain": "0.8516666666666667"
          },
          "metadata": {}
        }
      ]
    },
    {
      "metadata": {
        "trusted": true,
        "_uuid": "acc5829795b036f2798e1b029d38962742493f87"
      },
      "cell_type": "code",
      "source": "confusion_matrix(y_test, y_pred)",
      "execution_count": 107,
      "outputs": [
        {
          "output_type": "execute_result",
          "execution_count": 107,
          "data": {
            "text/plain": "array([[  11,  890],\n       [   0, 5099]])"
          },
          "metadata": {}
        }
      ]
    },
    {
      "metadata": {
        "trusted": true,
        "_uuid": "6b896fb322900afcd97a73fb67f6c5766c814214"
      },
      "cell_type": "code",
      "source": "print(classification_report(y_test, y_pred))",
      "execution_count": 108,
      "outputs": [
        {
          "output_type": "stream",
          "text": "              precision    recall  f1-score   support\n\n    negative       1.00      0.01      0.02       901\n    positive       0.85      1.00      0.92      5099\n\n   micro avg       0.85      0.85      0.85      6000\n   macro avg       0.93      0.51      0.47      6000\nweighted avg       0.87      0.85      0.79      6000\n\n",
          "name": "stdout"
        }
      ]
    },
    {
      "metadata": {
        "_uuid": "88855860e63aa509fe647f0549332acf9829eee5"
      },
      "cell_type": "markdown",
      "source": "**Conclusion:**\n>The data was increased 3 times. The data imbalance is causing the model to predict all data to one class only."
    },
    {
      "metadata": {
        "trusted": true,
        "_uuid": "a470c1cad1dfef11251b2c15f3370db51d3368bc"
      },
      "cell_type": "code",
      "source": "",
      "execution_count": 109,
      "outputs": []
    },
    {
      "metadata": {
        "trusted": true,
        "_uuid": "6a8f722e990f70b56ec62390d0ed98fe523dabce"
      },
      "cell_type": "code",
      "source": "from sklearn.model_selection import cross_val_score",
      "execution_count": 110,
      "outputs": []
    },
    {
      "metadata": {
        "trusted": true,
        "_uuid": "9b4cf4860cb2149bd15320904ea4a72f1bb65c8e"
      },
      "cell_type": "code",
      "source": "final_1 = final[:50000]\nfinal_1['Text'] = final_1['Text'].apply(cleanhtml)\nfinal_1['Text'] = final_1['Text'].apply(cleanpunc)\nfinal_data = final_1",
      "execution_count": 116,
      "outputs": [
        {
          "output_type": "stream",
          "text": "/opt/conda/lib/python3.6/site-packages/ipykernel_launcher.py:2: SettingWithCopyWarning: \nA value is trying to be set on a copy of a slice from a DataFrame.\nTry using .loc[row_indexer,col_indexer] = value instead\n\nSee the caveats in the documentation: http://pandas.pydata.org/pandas-docs/stable/indexing.html#indexing-view-versus-copy\n  \n/opt/conda/lib/python3.6/site-packages/ipykernel_launcher.py:3: SettingWithCopyWarning: \nA value is trying to be set on a copy of a slice from a DataFrame.\nTry using .loc[row_indexer,col_indexer] = value instead\n\nSee the caveats in the documentation: http://pandas.pydata.org/pandas-docs/stable/indexing.html#indexing-view-versus-copy\n  This is separate from the ipykernel package so we can avoid doing imports until\n",
          "name": "stderr"
        }
      ]
    },
    {
      "metadata": {
        "trusted": true,
        "_uuid": "2e91a3e6a1f23a3111085628e248bd87cdeb9761"
      },
      "cell_type": "code",
      "source": "",
      "execution_count": null,
      "outputs": []
    },
    {
      "metadata": {
        "trusted": true,
        "_uuid": "4e70819a4889784bb64c744c53995eec955aa511"
      },
      "cell_type": "code",
      "source": "X_train, X_test, y_train, y_test =  train_test_split(final_data['Text'], final_data['Score_n'], test_size = 0.25, stratify = final_data['Score_n'])",
      "execution_count": 117,
      "outputs": []
    },
    {
      "metadata": {
        "trusted": true,
        "_uuid": "72338e79a0eaef7460a468d459b804f9122e46ae"
      },
      "cell_type": "code",
      "source": "#create an object of countvectorizer with bigrams. \ncount_vect_3 = CountVectorizer(ngram_range=(1,2))",
      "execution_count": 119,
      "outputs": []
    },
    {
      "metadata": {
        "trusted": true,
        "_uuid": "79a218f73fc90581af7e77d157040f25abf64c19"
      },
      "cell_type": "code",
      "source": "#fit transform the training values to train the model. transform the test and cv values so that there is no data leak\nfinal_bigram_train = count_vect_3.fit_transform(X_train.values)\nfinal_bigram_test = count_vect_3.transform(X_test.values)",
      "execution_count": 120,
      "outputs": []
    },
    {
      "metadata": {
        "trusted": true,
        "_uuid": "4b3437a362430a76ec8ed2aae8296e297ef86de2"
      },
      "cell_type": "code",
      "source": "#create an object for StandardScaler\nsc = StandardScaler(with_mean=False)",
      "execution_count": 121,
      "outputs": []
    },
    {
      "metadata": {
        "trusted": true,
        "_uuid": "d5d3c25542bb216ffe974302bd32e4ec2971fbe7"
      },
      "cell_type": "code",
      "source": "X_train_standardized = sc.fit_transform(final_bigram_train)\nX_test_standardized = sc.transform(final_bigram_test)",
      "execution_count": 122,
      "outputs": [
        {
          "output_type": "stream",
          "text": "/opt/conda/lib/python3.6/site-packages/sklearn/utils/validation.py:595: DataConversionWarning: Data with input dtype int64 was converted to float64 by StandardScaler.\n  warnings.warn(msg, DataConversionWarning)\n",
          "name": "stderr"
        }
      ]
    },
    {
      "metadata": {
        "trusted": true,
        "_uuid": "94cb106494e11ac10ac80d38e3480cb16115560c"
      },
      "cell_type": "code",
      "source": "k = [5,11,25, 49,75,99]\ncv_score = []\nfor i in k:\n    knn3 = KNeighborsClassifier(n_neighbors=i,weights='distance')\n    sc = cross_val_score(knn3, X = X_train_standardized,y = y_train,scoring = 'precision',cv = 5)\n    cv_score.append(sc.mean())\n    ",
      "execution_count": 132,
      "outputs": []
    },
    {
      "metadata": {
        "trusted": true,
        "_uuid": "80af2fb9f60d96063d293fb4c05e93cf29bb0858"
      },
      "cell_type": "code",
      "source": "cv_score = np.array(cv_score)",
      "execution_count": 142,
      "outputs": []
    },
    {
      "metadata": {
        "trusted": true,
        "_uuid": "5da16c493ce9721135258f3d0dea528568a3f91f"
      },
      "cell_type": "code",
      "source": "maxv = cv_score.max()",
      "execution_count": 143,
      "outputs": []
    },
    {
      "metadata": {
        "trusted": true,
        "_uuid": "2918ed307fd206a10417d35ba6799789a53efc19"
      },
      "cell_type": "code",
      "source": "opt_index = cv_score.argmax()",
      "execution_count": 145,
      "outputs": []
    },
    {
      "metadata": {
        "trusted": true,
        "_uuid": "f529c8d98ab3376b0b255c153d9f015ef11a7783"
      },
      "cell_type": "code",
      "source": "k[opt_index]",
      "execution_count": 146,
      "outputs": [
        {
          "output_type": "execute_result",
          "execution_count": 146,
          "data": {
            "text/plain": "5"
          },
          "metadata": {}
        }
      ]
    },
    {
      "metadata": {
        "trusted": true,
        "_uuid": "be927f6e9cf8ccd782d4a365e406193dbbfaa21f"
      },
      "cell_type": "code",
      "source": "knn_4 = KNeighborsClassifier(n_neighbors=5, weights='distance')\nknn_4.fit(X_train_standardized, y_train)\ny_pred = knn_4.predict(X_test_standardized)\nprint(accuracy_score(y_test, y_pred))\nprint(confusion_matrix(y_test, y_pred))",
      "execution_count": null,
      "outputs": []
    },
    {
      "metadata": {
        "trusted": true,
        "_uuid": "0b8c9e82cebc58f8f6776991fca63871ab44ec70"
      },
      "cell_type": "code",
      "source": "#the K=5 value was used and the result was skewed due to imbalanced data. Using precision as score did not make the model better",
      "execution_count": null,
      "outputs": []
    }
  ],
  "metadata": {
    "kernelspec": {
      "display_name": "Python 3",
      "language": "python",
      "name": "python3"
    },
    "language_info": {
      "name": "python",
      "version": "3.6.6",
      "mimetype": "text/x-python",
      "codemirror_mode": {
        "name": "ipython",
        "version": 3
      },
      "pygments_lexer": "ipython3",
      "nbconvert_exporter": "python",
      "file_extension": ".py"
    }
  },
  "nbformat": 4,
  "nbformat_minor": 1
}